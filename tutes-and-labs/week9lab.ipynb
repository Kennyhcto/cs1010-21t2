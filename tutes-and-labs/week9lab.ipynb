{
  "nbformat": 4,
  "nbformat_minor": 0,
  "metadata": {
    "language_info": {
      "codemirror_mode": {
        "name": "ipython",
        "version": 3
      },
      "file_extension": ".py",
      "mimetype": "text/x-python",
      "name": "python",
      "nbconvert_exporter": "python",
      "pygments_lexer": "ipython3",
      "version": "3.9.0-final"
    },
    "orig_nbformat": 2,
    "kernelspec": {
      "name": "python3",
      "display_name": "Python 3.9.0 64-bit",
      "metadata": {
        "interpreter": {
          "hash": "ac2eaa0ea0ebeafcc7822e65e46aa9d4f966f30b695406963e145ea4a91cd4fc"
        }
      }
    },
    "colab": {
      "name": "week9lab.ipynb",
      "provenance": [],
      "include_colab_link": true
    }
  },
  "cells": [
    {
      "cell_type": "markdown",
      "metadata": {
        "id": "view-in-github",
        "colab_type": "text"
      },
      "source": [
        "<a href=\"https://colab.research.google.com/github/sim-mautner/cs1010-21t2/blob/main/tutes-and-labs/week9lab.ipynb\" target=\"_parent\"><img src=\"https://colab.research.google.com/assets/colab-badge.svg\" alt=\"Open In Colab\"/></a>"
      ]
    },
    {
      "cell_type": "markdown",
      "metadata": {
        "id": "u2WhDvLUEben"
      },
      "source": [
        "# Week 9 Lab (4 marks)\n",
        "\n",
        "**IMPORTANT NOTE:** The first task in this lab is simply demonstrating progress in your project. You need to do this during your week 9 lab.\n",
        "\n",
        "The later tasks doe not have to be shown to your lab demonstrator till the week 10 lab."
      ]
    },
    {
      "cell_type": "markdown",
      "metadata": {
        "id": "2EIOOx9GICVj"
      },
      "source": [
        "## Project Progress (1 mark)\n",
        "\n",
        "Show your progress in your project to your tutor."
      ]
    },
    {
      "cell_type": "markdown",
      "metadata": {
        "id": "87LPJ9F0Q3TY"
      },
      "source": [
        "## Web APIs (2 mark)"
      ]
    },
    {
      "cell_type": "markdown",
      "metadata": {
        "id": "_EoID_7yQ3TZ"
      },
      "source": [
        "The [Deck of Cards API](http://deckofcardsapi.com/) can be used to create decks of cards and draw cards from them.\n",
        "\n",
        "Using this API and the `requests` library, shuffle *6 decks*, draw 3 cards and display them in this notebook.\n",
        "\n",
        "**HINT**: You can display multiple images in a notebook by calling the `display()` function multiple times. It has been imported for you, as has all the other things you are likely to need. "
      ]
    },
    {
      "cell_type": "code",
      "metadata": {
        "id": "tJ1lR1YbQ3Ta"
      },
      "source": [
        "import requests\n",
        "import json\n",
        "from PIL import Image\n",
        "import io\n",
        "from IPython.display import display"
      ],
      "execution_count": null,
      "outputs": []
    },
    {
      "cell_type": "markdown",
      "metadata": {
        "id": "VYyJFWSmQ3Tb"
      },
      "source": [
        "## Revision Exercise (1 mark)\n",
        "\n",
        "The following dictionary describes a series of items for sale on an auction site. Each item has a reserve price and a series of bids. The bids are in the order they were received-- i.e. most recent and highest bid at the end."
      ]
    },
    {
      "cell_type": "code",
      "metadata": {
        "id": "1K-vBI7DQ3Tc"
      },
      "source": [
        "auctions = {\n",
        "    \"lamp\": {\n",
        "        \"reserve_price\": 25,\n",
        "        \"bids\": [\n",
        "            { \"bidder\": \"coolguy92\", \"bid\": 5 },\n",
        "            { \"bidder\": \"xoxo_lucie\", \"bid\": 10 },\n",
        "            { \"bidder\": \"addicted_to_ebay\", \"bid\": 20 },\n",
        "            { \"bidder\": \"coolguy92\", \"bid\": 30 }\n",
        "        ]\n",
        "    },\n",
        "    \"figurine\": {\n",
        "        \"reserve_price\": 10,\n",
        "        \"bids\": [\n",
        "            { \"bidder\": \"user1234\", \"bid\": 2 },\n",
        "            { \"bidder\": \"xoxo_lucie\", \"bid\": 5 }\n",
        "        ]\n",
        "    },\n",
        "    \"pokemon card\": {\n",
        "        \"reserve_price\": 500,\n",
        "        \"bids\": [\n",
        "            { \"bidder\": \"ihavetoomuchmoney\", \"bid\": 500 },\n",
        "            { \"bidder\": \"addicted_to_ebay\", \"bid\": 600 }\n",
        "        ]\n",
        "    },\n",
        "    \"holiday package\": {\n",
        "        \"reserve_price\": 1500,\n",
        "        \"bids\": []\n",
        "    },\n",
        "}"
      ],
      "execution_count": null,
      "outputs": []
    },
    {
      "cell_type": "markdown",
      "metadata": {
        "id": "2deNRrUqQ3Td"
      },
      "source": [
        "Write a function, `reserve_met()`, that returns a list of all the items that have met their reserve price. All the items returned should have a bid that is greater than or equal to the reserve price."
      ]
    },
    {
      "cell_type": "code",
      "metadata": {
        "id": "IA6UrcoOQ3Tf"
      },
      "source": [
        ""
      ],
      "execution_count": null,
      "outputs": []
    },
    {
      "cell_type": "markdown",
      "metadata": {
        "id": "jU9EQp52Q3Tg"
      },
      "source": [
        "Use this cell to test your function"
      ]
    },
    {
      "cell_type": "code",
      "metadata": {
        "id": "EJA221lpQ3Tg"
      },
      "source": [
        "assert reserve_met() == [\"lamp\", \"pokemon card\"]"
      ],
      "execution_count": null,
      "outputs": []
    }
  ]
}