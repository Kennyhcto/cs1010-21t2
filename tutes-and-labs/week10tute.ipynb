{
  "nbformat": 4,
  "nbformat_minor": 0,
  "metadata": {
    "colab": {
      "name": "week10tute.ipynb",
      "provenance": [],
      "toc_visible": true,
      "include_colab_link": true
    },
    "kernelspec": {
      "name": "python3",
      "display_name": "Python 3"
    },
    "language_info": {
      "name": "python"
    }
  },
  "cells": [
    {
      "cell_type": "markdown",
      "metadata": {
        "id": "view-in-github",
        "colab_type": "text"
      },
      "source": [
        "<a href=\"https://colab.research.google.com/github/sim-mautner/cs1010-21t2/blob/main/tutes-and-labs/week10tute.ipynb\" target=\"_parent\"><img src=\"https://colab.research.google.com/assets/colab-badge.svg\" alt=\"Open In Colab\"/></a>"
      ]
    },
    {
      "cell_type": "markdown",
      "metadata": {
        "id": "isdUfdAwJLVt"
      },
      "source": [
        "# Week 10 Tutorial"
      ]
    },
    {
      "cell_type": "markdown",
      "metadata": {
        "id": "vkozy5nUhhD_"
      },
      "source": [
        "## myExperience\n",
        "\n",
        "Please take 10 minutes to fill out the myExperience forms for this course. (on Moodle)"
      ]
    },
    {
      "cell_type": "markdown",
      "metadata": {
        "id": "C39ItU8OxOm_"
      },
      "source": [
        "## Big Kahoot\n",
        "\n",
        "Your tutor will run through a Kahoot with you to test how well you remember certain concepts from the course."
      ]
    },
    {
      "cell_type": "markdown",
      "metadata": {
        "id": "M30HpWq8xTBP"
      },
      "source": [
        "## Revision\n",
        "\n",
        "* Are there any questions from previous tutorials you haven't finished going through?\n",
        "* Are there any topics you'd like revised?\n",
        "* Are there any questions you'd like gone over again?"
      ]
    },
    {
      "cell_type": "markdown",
      "metadata": {
        "id": "Geu4pvp9xgrm"
      },
      "source": [
        "## (Optional) Functional Programming\n",
        "\n",
        "The prefix sum of a list `[x1, x2, x3, ...]` is the list `[x1, x1 + x2, x1 + x2 + x3, ...]`.\n",
        "\n",
        "Write the function prefix_sum(numbers):\n"
      ]
    },
    {
      "cell_type": "code",
      "metadata": {
        "id": "MaRHZrQ3xuAf"
      },
      "source": [
        ""
      ],
      "execution_count": null,
      "outputs": []
    },
    {
      "cell_type": "markdown",
      "metadata": {
        "id": "py_n73SpxuV5"
      },
      "source": [
        "A scan is a prefix sum generalised to any operation, not just addition. For example, a scan with multiplication of `[x1, x2, x3, ...]` would be `[x1, x1 * x2, x1 * x2 * x3, ...]`.\n",
        "\n",
        "Write the function scan(function, values) that returns the scan with function over the list values."
      ]
    },
    {
      "cell_type": "code",
      "metadata": {
        "id": "VJBo2V3QxzPo"
      },
      "source": [
        ""
      ],
      "execution_count": null,
      "outputs": []
    }
  ]
}
