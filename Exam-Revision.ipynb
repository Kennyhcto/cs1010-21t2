{
  "nbformat": 4,
  "nbformat_minor": 0,
  "metadata": {
    "colab": {
      "name": "Exam Revision.ipynb",
      "provenance": [],
      "authorship_tag": "ABX9TyOeJ47KhjV6DylbaUgc4NAr",
      "include_colab_link": true
    },
    "kernelspec": {
      "name": "python3",
      "display_name": "Python 3"
    },
    "language_info": {
      "name": "python"
    }
  },
  "cells": [
    {
      "cell_type": "markdown",
      "metadata": {
        "id": "view-in-github",
        "colab_type": "text"
      },
      "source": [
        "<a href=\"https://colab.research.google.com/github/sim-mautner/cs1010-21t2/blob/main/Exam-Revision.ipynb\" target=\"_parent\"><img src=\"https://colab.research.google.com/assets/colab-badge.svg\" alt=\"Open In Colab\"/></a>"
      ]
    },
    {
      "cell_type": "markdown",
      "metadata": {
        "id": "Wf3q8ohJvWdD"
      },
      "source": [
        "# House Hunting (See Week 6)"
      ]
    },
    {
      "cell_type": "markdown",
      "metadata": {
        "id": "ZwnCkEedvaPI"
      },
      "source": [
        "# Spam\n",
        "\n",
        "Write the function spamify(synonyms, text) that transforms text by swapping words with given synonyms. The first argument, synonyms, is a list of lists where each sub-list represents words that all have the same meaning. For example:"
      ]
    },
    {
      "cell_type": "code",
      "metadata": {
        "id": "puYDSqs8vUhg"
      },
      "source": [
        "example_synonyms = [\n",
        "    [\"amazing\", \"incredible\", \"unbelievable\", \"fantastic\"], \n",
        "    [\"awful\", \"unpleasant\", \"terrible\"],\n",
        "    [\"calm\", \"quiet\", \"peaceful\", \"tranquil\"]\n",
        "]"
      ],
      "execution_count": null,
      "outputs": []
    },
    {
      "cell_type": "markdown",
      "metadata": {
        "id": "r0nYQ3Iqvkbg"
      },
      "source": [
        "The transformation should work by replacing each word out with the one that follows it in its list of synonyms. If the word is at the end of its list, then it should be replaced with the word at the start. There are examples in the test cell below.\n",
        "\n",
        "NOTE: To get full marks for this exercise, you need to account for all forms of punctuation as given in the testing cell, as well as capitalisation. However, you do not need to consider other forms of punctuation, plurals, possessives, etc."
      ]
    },
    {
      "cell_type": "code",
      "metadata": {
        "id": "bi7S3PslvrWS"
      },
      "source": [
        "# Some Tests\n",
        "\n",
        "assert spamify(example_synonyms, \"I thought it was amazing\") == \"I thought it was incredible\"\n",
        "assert spamify(example_synonyms, \"The quiet carriage was actually unpleasant\") == \"The peaceful carriage was actually terrible\"\n",
        "assert spamify(example_synonyms, \"Amazing people are everywhere\") == \"Incredible people are everywhere\"\n",
        "assert spamify(example_synonyms, \"The sea was tranquil\") == \"The sea was calm\"\n",
        "assert spamify(example_synonyms, \"The food was awful. There, I said it.\") == \"The food was unpleasant. There, I said it.\"\n",
        "assert spamify(example_synonyms, \"Was it really that awful?\") == \"Was it really that unpleasant?\"\n",
        "assert spamify(example_synonyms, \"That's amazing, incredible, fantastic!\") == \"That's incredible, unbelievable, amazing!\""
      ],
      "execution_count": null,
      "outputs": []
    },
    {
      "cell_type": "markdown",
      "metadata": {
        "id": "SRPEhAuYvlOQ"
      },
      "source": [
        "# Making Change\n",
        "\n",
        "Assuming you're dealing with Australian coins (\\$2, \\$1, 50c, 20c, 10c, and 5c), write a function change(price, paid) that returns a list of coins (in decreasing order of value) that would need to be given as change if paid cents were given for something priced at price cents. The function should return the fewest coins needed to make the correct change. Some examples are in the testing cell below."
      ]
    },
    {
      "cell_type": "code",
      "metadata": {
        "id": "MOAOZuSAvudv"
      },
      "source": [
        ""
      ],
      "execution_count": null,
      "outputs": []
    },
    {
      "cell_type": "code",
      "metadata": {
        "id": "4ht6mWoBv17e"
      },
      "source": [
        "# Some Tests\n",
        "\n",
        "assert change(400, 400) == []\n",
        "assert change(250, 300) == [\"50c\"]\n",
        "assert change(160, 200) == [\"20c\", \"20c\"]\n",
        "assert change(415, 1000) == [\"$2\", \"$2\", \"$1\", \"50c\", \"20c\", \"10c\", \"5c\"]"
      ],
      "execution_count": null,
      "outputs": []
    },
    {
      "cell_type": "markdown",
      "metadata": {
        "id": "4TsegvxKv4eX"
      },
      "source": [
        "# Russian Dolls\n",
        "\n",
        "Consider what would happen if you took a string and repeatedly inserted it into itself. For example, the string \"hello\" could be inserted into \"hello\" to give \"helhellolo\". Inserting it again and you could end up with \"helhhelloellolo\". We refer to such strings as nestings.\n",
        "\n",
        "**Create a nesting**\n",
        "Write the function nest(word, positions) that creates a nesting. The argument word is the initial word and positions is a list of positions to do the insertions. For example, inserting \"hello\" into itself at position 3 gives \"helhellolo\" then inserting \"hello\" into that at position 5 gives \"helhehellollolo\".\n",
        "\n",
        "**NOTE:** You can assume the list of positions is valid; i.e. the position will never be a negative number and will always be less than or equal to the length of the string at that point."
      ]
    },
    {
      "cell_type": "code",
      "metadata": {
        "id": "1sqvCZCowDIH"
      },
      "source": [
        ""
      ],
      "execution_count": null,
      "outputs": []
    },
    {
      "cell_type": "code",
      "metadata": {
        "id": "CT0vDRfjwBYn"
      },
      "source": [
        "# Some Tests\n",
        "assert nest(\"hello\", [3]) == \"helhellolo\"\n",
        "assert nest(\"hello\", [3,5]) == \"helhehellollolo\"\n",
        "assert nest(\"hello\", [0]) == \"hellohello\"\n",
        "assert nest(\"COMP1010\", [3, 14, 17, 30]) == \"COMCOMP1010P10COMCOMP1010P1010COMP101010\""
      ],
      "execution_count": null,
      "outputs": []
    },
    {
      "cell_type": "markdown",
      "metadata": {
        "id": "4gDiScpbwGgY"
      },
      "source": [
        "# Dismantle a nesting (harder)\n",
        "Now consider doing this in reverse. Can you start with a nesting like \"hhelloellohello\" and determine a list of positions that could have built it up from \"hello\"?\n",
        "\n",
        "Implement a function that does this called nest_positions(nesting, word). It should take in a possible nesting as well as an initial word, and return a list of positions that would create such a nesting. If there is no way to create the nesting with the given word, the function should return None.\n",
        "\n",
        "**NOTE:** For some arguments, there are multiple possible results this function could return. Your function is correct if it returns any one of them."
      ]
    },
    {
      "cell_type": "code",
      "metadata": {
        "id": "K6SJzbOdwJ_t"
      },
      "source": [
        ""
      ],
      "execution_count": null,
      "outputs": []
    },
    {
      "cell_type": "code",
      "metadata": {
        "id": "E1hMpGoVwKgO"
      },
      "source": [
        "# Some Tests\n",
        "assert nest_positions(\"helhellolo\", \"hello\") == [3]\n",
        "assert nest_positions(\"helhehellollolo\", \"hello\") == [3, 5]\n",
        "assert nest_positions(\"hhellollo\", \"hello\") == None\n",
        "assert nest_positions(\"helhehehelllollolo\", \"hello\") == None\n",
        "assert nest_positions(\"hellohello\", \"hello\") == [0] or nest_positions(\"hellohello\", \"hello\") == [5]"
      ],
      "execution_count": null,
      "outputs": []
    },
    {
      "cell_type": "markdown",
      "metadata": {
        "id": "qYqkm4I0wP9U"
      },
      "source": [
        "# Uniqueness\n",
        "\n",
        "Write the function only_unique(dicts) that, for a given list of dictionaries, returns only the entries in each dictionary that have keys unique to that dictionary-- i.e. they only appear in that dictionary not any of the other dictionaries in the list. See the testing cell below for some examples."
      ]
    },
    {
      "cell_type": "code",
      "metadata": {
        "id": "qZDYaVXQwUf8"
      },
      "source": [
        "# Some Tests\n",
        "\n",
        "assert only_unique([{\"a\": 0}, {\"b\": 0}, {\"c\": 0}]) == [{\"a\":0}, {\"b\": 0}, {\"c\": 0}]\n",
        "assert only_unique([{\"a\": 0, \"b\": 0}, {\"a\": 0}]) == [{\"b\": 0}, {}]\n",
        "assert only_unique([{\"a\": 1, \"b\": 2}, {\"a\": 4, \"c\": 3}, {\"c\": 5, \"d\": 5, \"e\": 5}]) == [{\"b\": 2}, {}, {\"d\": 5, \"e\": 5}]"
      ],
      "execution_count": null,
      "outputs": []
    },
    {
      "cell_type": "markdown",
      "metadata": {
        "id": "Fk3UWiBswYt-"
      },
      "source": [
        "# Pig Latin\n",
        "\n",
        "You can translate an English sentence into Pig Latin by moving all the consonants before each word to the end of the word and adding \"ay\". The test cell below has some examples.\n",
        "\n",
        "Write the function pig_latin(text) that translates English text into Pig Latin. The function should respect capitalisation-- i.e. if a word starts with an uppercase letter, the translated word should also start with an uppercase letter. Similarly, the function should work with text containing full stops and commas, but doesn't need to consider any other punctuation. You also don't need to consider cases where 'y' is used in a vowel position.\n",
        "\n",
        "**NOTE:** In an exam, there would be partial marks for this question if you were able to partially meet the requirements above."
      ]
    },
    {
      "cell_type": "code",
      "metadata": {
        "id": "CZaYQ2qSwdoM"
      },
      "source": [
        ""
      ],
      "execution_count": null,
      "outputs": []
    },
    {
      "cell_type": "code",
      "metadata": {
        "id": "9aB1I4oCweLU"
      },
      "source": [
        "# Some Tests\n",
        "\n",
        "assert pig_latin(\"hello\") == \"ellohay\"\n",
        "assert pig_latin(\"how are you\") == \"owhay areay ouyay\"\n",
        "assert pig_latin(\"Big Bad Wolf\") == \"Igbay Adbay Olfway\"\n",
        "assert pig_latin(\"Rob has snakes\") == \"Obray ashay akessnay\"\n",
        "assert pig_latin(\"Hermits United. We meet up every ten years, swap stories about caves.\") == \"Ermitshay Uniteday. Eway eetmay upay everyay entay earsyay, apsway oriesstay aboutay avescay.\""
      ],
      "execution_count": null,
      "outputs": []
    }
  ]
}