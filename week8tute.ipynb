{
  "nbformat": 4,
  "nbformat_minor": 0,
  "metadata": {
    "colab": {
      "name": "week8tute.ipynb",
      "provenance": [],
      "toc_visible": true,
      "include_colab_link": true
    },
    "kernelspec": {
      "name": "python3",
      "display_name": "Python 3"
    },
    "language_info": {
      "name": "python"
    }
  },
  "cells": [
    {
      "cell_type": "markdown",
      "metadata": {
        "id": "view-in-github",
        "colab_type": "text"
      },
      "source": [
        "<a href=\"https://colab.research.google.com/github/sim-mautner/cs1010-21t2/blob/main/week8tute.ipynb\" target=\"_parent\"><img src=\"https://colab.research.google.com/assets/colab-badge.svg\" alt=\"Open In Colab\"/></a>"
      ]
    },
    {
      "cell_type": "markdown",
      "metadata": {
        "id": "isdUfdAwJLVt"
      },
      "source": [
        "# Week 8 Tutorial"
      ]
    },
    {
      "cell_type": "markdown",
      "metadata": {
        "id": "vkozy5nUhhD_"
      },
      "source": [
        "## Kahoot\n",
        "\n",
        "Your tutor will run through a Kahoot with you to test how well you remember certain concepts from earlier in the course. After the tutes have occurred, the link will be posted here if you wish to go through it in your own time."
      ]
    },
    {
      "cell_type": "markdown",
      "metadata": {
        "id": "mSsz_JLFF2Y6"
      },
      "source": [
        "## Usability\n",
        "\n",
        "Try to come up with examples of websites or applications that you feel have poor user interfaces.\n",
        "\n",
        "Are you able to identify which, if any, of the [Nielsen Usability Heuristics](https://www.nngroup.com/articles/ten-usability-heuristics/) have been violated?"
      ]
    },
    {
      "cell_type": "markdown",
      "metadata": {
        "id": "1rzR2eUVGC-F"
      },
      "source": [
        "## Web APIs\n",
        "\n",
        "The [Dog API](https://dog.ceo/dog-api/) allows you retrieve images of random dogs. Read its documentation, pick your favourite breed of dog, and see if you can display a random picture of a dog of that breed in this notebook."
      ]
    },
    {
      "cell_type": "code",
      "metadata": {
        "id": "I02Ww2SFGK-p"
      },
      "source": [
        ""
      ],
      "execution_count": null,
      "outputs": []
    },
    {
      "cell_type": "markdown",
      "metadata": {
        "id": "T6_b9oCWGmU6"
      },
      "source": [
        "## Databases (if there's time)\n",
        "\n",
        "Use SQLite in Python to construct a database table containing some famous movies and their genres.\n",
        "\n",
        "Create an additional table to store students in this class and their favourite movie genre.\n",
        "\n",
        "If we wanted to keep track of what movies students had seen, is there a way we do that? Keep in mind that each student will have seen multiple movies and each movie will have been seen by multiple students."
      ]
    },
    {
      "cell_type": "code",
      "metadata": {
        "id": "5nSY1LnAGocA"
      },
      "source": [
        ""
      ],
      "execution_count": null,
      "outputs": []
    }
  ]
}