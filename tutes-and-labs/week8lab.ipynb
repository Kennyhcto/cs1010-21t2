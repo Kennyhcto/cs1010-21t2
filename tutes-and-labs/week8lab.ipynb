{
  "nbformat": 4,
  "nbformat_minor": 0,
  "metadata": {
    "language_info": {
      "codemirror_mode": {
        "name": "ipython",
        "version": 3
      },
      "file_extension": ".py",
      "mimetype": "text/x-python",
      "name": "python",
      "nbconvert_exporter": "python",
      "pygments_lexer": "ipython3",
      "version": "3.9.0-final"
    },
    "orig_nbformat": 2,
    "kernelspec": {
      "name": "python3",
      "display_name": "Python 3.9.0 64-bit",
      "metadata": {
        "interpreter": {
          "hash": "ac2eaa0ea0ebeafcc7822e65e46aa9d4f966f30b695406963e145ea4a91cd4fc"
        }
      }
    },
    "colab": {
      "name": "week8lab.ipynb",
      "provenance": [],
      "include_colab_link": true
    }
  },
  "cells": [
    {
      "cell_type": "markdown",
      "metadata": {
        "id": "view-in-github",
        "colab_type": "text"
      },
      "source": [
        "<a href=\"https://colab.research.google.com/github/sim-mautner/cs1010-21t2/blob/main/tutes-and-labs/week8lab.ipynb\" target=\"_parent\"><img src=\"https://colab.research.google.com/assets/colab-badge.svg\" alt=\"Open In Colab\"/></a>"
      ]
    },
    {
      "cell_type": "markdown",
      "metadata": {
        "id": "u2WhDvLUEben"
      },
      "source": [
        "# Week 8 Lab (2 marks)\n",
        "\n",
        "**IMPORTANT NOTE:** The first task in this lab is simply demonstrating progress in your project. You need to do this during your week 8 lab.\n",
        "\n",
        "The second task does not have to be shown to your lab demonstrator till the week 9 lab."
      ]
    },
    {
      "cell_type": "markdown",
      "metadata": {
        "id": "2EIOOx9GICVj"
      },
      "source": [
        "## Project Progress (1 mark)\n",
        "\n",
        "Show your progress in your project to your tutor."
      ]
    },
    {
      "cell_type": "markdown",
      "metadata": {
        "id": "bDKQg2jzIGzh"
      },
      "source": [
        "## Cats (1 mark)\n",
        "\n",
        "Requests to the URL [https://aws.random.cat/meow](https://aws.random.cat/meow) will get a response containing a link to a picture of a random cat.\n",
        "\n",
        "Similarly, the [cat-facts API](https://alexwohlbruck.github.io/cat-facts/docs/) can be used to retrieve a random fact about a cat.\n",
        "\n",
        "Play around with both of these in the cell below to determine the data you can get from them and what format it is in.\n",
        "\n",
        "In `cat_server.py`, implement a web server that produces a single page containing a picture of a random cat with a random cat fact below it.\n",
        "\n",
        "**HINT:** As long as you have a URL to an image, you don't need to request it. You can simply make it the src attribute of the img tag."
      ]
    }
  ]
}