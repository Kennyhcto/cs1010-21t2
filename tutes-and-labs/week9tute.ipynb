{
  "nbformat": 4,
  "nbformat_minor": 0,
  "metadata": {
    "colab": {
      "name": "week9tute.ipynb",
      "provenance": [],
      "toc_visible": true,
      "include_colab_link": true
    },
    "kernelspec": {
      "name": "python3",
      "display_name": "Python 3"
    },
    "language_info": {
      "name": "python"
    }
  },
  "cells": [
    {
      "cell_type": "markdown",
      "metadata": {
        "id": "view-in-github",
        "colab_type": "text"
      },
      "source": [
        "<a href=\"https://colab.research.google.com/github/sim-mautner/cs1010-21t2/blob/main/tutes-and-labs/week9tute.ipynb\" target=\"_parent\"><img src=\"https://colab.research.google.com/assets/colab-badge.svg\" alt=\"Open In Colab\"/></a>"
      ]
    },
    {
      "cell_type": "markdown",
      "metadata": {
        "id": "isdUfdAwJLVt"
      },
      "source": [
        "# Week 9 Tutorial"
      ]
    },
    {
      "cell_type": "markdown",
      "metadata": {
        "id": "vkozy5nUhhD_"
      },
      "source": [
        "## Kahoot\n",
        "\n",
        "Your tutor will run through a Kahoot with you to test how well you remember certain concepts from earlier in the course. After the tutes have occurred, the link will be posted here if you wish to go through it in your own time."
      ]
    },
    {
      "cell_type": "markdown",
      "metadata": {
        "id": "T6_b9oCWGmU6"
      },
      "source": [
        "## Databases (if there wasn't time last week)\n",
        "\n",
        "Use SQLite in Python to construct a database table containing some famous movies and their genres.\n",
        "\n",
        "Create an additional table to store students in this class and their favourite movie genre.\n",
        "\n",
        "If we wanted to keep track of what movies students had seen, is there a way we do that? Keep in mind that each student will have seen multiple movies and each movie will have been seen by multiple students."
      ]
    },
    {
      "cell_type": "code",
      "metadata": {
        "id": "5nSY1LnAGocA"
      },
      "source": [
        ""
      ],
      "execution_count": null,
      "outputs": []
    },
    {
      "cell_type": "markdown",
      "metadata": {
        "id": "yPUqaqgXR4gn"
      },
      "source": [
        "## Cookies\n",
        "\n",
        "Implement a web server that acts as the guessing player in a number guessing game-- i.e. it tries to guess a number the user has come up with and the user can respond with \"higher\" or \"lower\". Importantly, it should tell the user if it thinks they are cheating and changing their number halfway through the game. (We implemented this as a simple Python application earlier in the term.)\n",
        "\n",
        "Use `session` to store the application state in cookies."
      ]
    }
  ]
}