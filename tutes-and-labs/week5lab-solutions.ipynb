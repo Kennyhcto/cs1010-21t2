{
  "nbformat": 4,
  "nbformat_minor": 0,
  "metadata": {
    "language_info": {
      "codemirror_mode": {
        "name": "ipython",
        "version": 3
      },
      "file_extension": ".py",
      "mimetype": "text/x-python",
      "name": "python",
      "nbconvert_exporter": "python",
      "pygments_lexer": "ipython3",
      "version": "3.9.0-final"
    },
    "orig_nbformat": 2,
    "kernelspec": {
      "name": "python3",
      "display_name": "Python 3.9.0 64-bit",
      "metadata": {
        "interpreter": {
          "hash": "ac2eaa0ea0ebeafcc7822e65e46aa9d4f966f30b695406963e145ea4a91cd4fc"
        }
      }
    },
    "colab": {
      "name": "week5lab-solutions.ipynb",
      "provenance": [],
      "collapsed_sections": [],
      "include_colab_link": true
    }
  },
  "cells": [
    {
      "cell_type": "markdown",
      "metadata": {
        "id": "view-in-github",
        "colab_type": "text"
      },
      "source": [
        "<a href=\"https://colab.research.google.com/github/sim-mautner/cs1010-21t2/blob/main/tutes-and-labs/week5lab-solutions.ipynb\" target=\"_parent\"><img src=\"https://colab.research.google.com/assets/colab-badge.svg\" alt=\"Open In Colab\"/></a>"
      ]
    },
    {
      "cell_type": "markdown",
      "metadata": {
        "id": "u2WhDvLUEben"
      },
      "source": [
        "# Week 5 Lab (7 marks)\n",
        "\n",
        "**IMPORTANT NOTE** If you're using Colaboratory, make sure you save a copy of these exercises to Google drive by clicking 'Copy to Drive' at the top of the page. Otherwise, your answers will not be saved.\n",
        "The first exercises for this lab *can* be done in Colaboratory, but the last exercise requires you to implement a web server, so you will need to have Python running on your own computer for at least that exercise.\n",
        "\n",
        "To get the marks for these tasks, you need to show your solutions to you lab demonstrater in either your week 5, 7, or 8 lab."
      ]
    },
    {
      "cell_type": "markdown",
      "metadata": {
        "id": "rNFV8k4eMM69"
      },
      "source": [
        "## Dictionaries (1 mark)\n",
        "\n",
        "Write functions in the cells provided to answer the following questions."
      ]
    },
    {
      "cell_type": "markdown",
      "metadata": {
        "id": "z8FhEgnvMM6-"
      },
      "source": [
        "### Dictionary Access\n",
        "\n",
        "Write a function, `young_john(people)`, that returns `True` if the dictionary `people` contains the key `\"John\"` with a value of `19`. It should return `False` otherwise."
      ]
    },
    {
      "cell_type": "code",
      "metadata": {
        "id": "0W5X12FeMM6_",
        "colab": {
          "base_uri": "https://localhost:8080/"
        },
        "outputId": "48f57241-d44a-47df-cb80-5b67928f8dee"
      },
      "source": [
        "def young_john(people):\n",
        "  print(people)\n",
        "  print(people.keys())\n",
        "  # \"John\" in people ..... \"John\" in people.keys().... produce the same result\n",
        "  if \"John\" in people.keys() and people[\"John\"] == 19:\n",
        "    return True\n",
        "  return False\n",
        "\n",
        "#young_john({ \"Rob\": 31, \"Sarah\": 24, \"Chen\": 20, \"John\": 19})"
      ],
      "execution_count": null,
      "outputs": [
        {
          "output_type": "stream",
          "text": [
            "{'Rob': 31, 'Sarah': 24, 'Chen': 20, 'John': 19}\n",
            "dict_keys(['Rob', 'Sarah', 'Chen', 'John'])\n"
          ],
          "name": "stdout"
        },
        {
          "output_type": "execute_result",
          "data": {
            "text/plain": [
              "True"
            ]
          },
          "metadata": {
            "tags": []
          },
          "execution_count": 11
        }
      ]
    },
    {
      "cell_type": "code",
      "metadata": {
        "colab": {
          "base_uri": "https://localhost:8080/"
        },
        "id": "AKdl-LZGB0pa",
        "outputId": "24e30b69-ec1d-4c42-deaa-dd59c5ad75a4"
      },
      "source": [
        "# In the example above, why do we use square brackets around \"John\"?\n",
        "lista = ['a','b','c']\n",
        "print(lista[0])\n",
        "dicta = { \"Rob\": 31, \"Sarah\": 24, \"Chen\": 20, \"John\": 19}\n",
        "print(dicta[\"Rob\"])"
      ],
      "execution_count": null,
      "outputs": [
        {
          "output_type": "stream",
          "text": [
            "a\n",
            "31\n"
          ],
          "name": "stdout"
        }
      ]
    },
    {
      "cell_type": "code",
      "metadata": {
        "id": "N0KhUxb0BFej"
      },
      "source": [
        "def young_john(people):\n",
        "  return \"John\" in people and people[\"John\"] == 19"
      ],
      "execution_count": null,
      "outputs": []
    },
    {
      "cell_type": "code",
      "metadata": {
        "id": "w6X-rtJnCMHw"
      },
      "source": [
        "def young_john(people):\n",
        "  return people.get(\"John\") == 19"
      ],
      "execution_count": null,
      "outputs": []
    },
    {
      "cell_type": "markdown",
      "metadata": {
        "id": "LS4DCQW0MM6_"
      },
      "source": [
        "Use this cell to test if your function works."
      ]
    },
    {
      "cell_type": "code",
      "metadata": {
        "id": "PEISR0YlMM7A"
      },
      "source": [
        "assert young_john({ \"Rob\": 31, \"Sarah\": 24, \"Chen\": 20, \"John\": 19})\n",
        "assert not young_john({ \"Rob\": 31, \"Sarah\": 19, \"Chen\": 20, \"James\": 22})\n",
        "assert not young_john({ \"Rob\": 31, \"Sarah\": 24, \"Chen\": 20, \"John\": 23})"
      ],
      "execution_count": null,
      "outputs": []
    },
    {
      "cell_type": "markdown",
      "metadata": {
        "id": "jT-1XfIYMM7A"
      },
      "source": [
        "### Generalised card game\n",
        "\n",
        "Consider a game where certain cards are worth a certain number of points. Write a function, `score(card_points, cards)`, that takes in a dictionary representing the points for each card and a list of strings and calculates the total score for that list. You can assume that if a card is not in `card_points`, it is not worth any points. Examples of how the function is used are in the testing cell below."
      ]
    },
    {
      "cell_type": "code",
      "metadata": {
        "id": "4xQ2XRVqMM7B"
      },
      "source": [
        "def score(card_points, cards):\n",
        "  # Go through each card in cards, and add the score for that card, to our total points.\n",
        "  points = 0\n",
        "  for card in cards:\n",
        "    if card in card_points:\n",
        "      points += card_points[card]\n",
        "  return points"
      ],
      "execution_count": null,
      "outputs": []
    },
    {
      "cell_type": "markdown",
      "metadata": {
        "id": "V-c29c93MM7B"
      },
      "source": [
        "Use the cell below to test if your function works."
      ]
    },
    {
      "cell_type": "code",
      "metadata": {
        "id": "udZml6enMM7B"
      },
      "source": [
        "assert score({\"Ace\": 5, \"King\": 3, \"Queen\": 2, \"Jack\": 1 },\n",
        "             [\"10\", \"Jack\", \"Ace\", \"King\", \"Queen\", \"King\", \"3\"]) == 14\n",
        "assert score({\"Fire\": 2, \"Wind\": 1, \"Water\": 1, \"Earth\": 3 },\n",
        "             [\"Fire\", \"Fire\", \"Wind\", \"Water\", \"Earth\"]) == 9"
      ],
      "execution_count": null,
      "outputs": []
    },
    {
      "cell_type": "markdown",
      "metadata": {
        "id": "pns2rTEsMM7B"
      },
      "source": [
        "## Nested Structures (1 mark)\n",
        "\n",
        "The following dictionary contains some courses and the list of tutorials for each of them."
      ]
    },
    {
      "cell_type": "code",
      "metadata": {
        "id": "kWGfJ_UyMM7C"
      },
      "source": [
        "first_year_courses = {\"COMP1010\": [\"T15A\", \"T17A\", \"T18A\"], \n",
        "                      \"FINS1612\": [\"M11A\", \"W12A\"], \n",
        "                      \"FINS1613\": [\"T12A\", \"T12B\", \"F09A\"], \n",
        "                      \"ACCT1501\": [\"T10A\", \"F15A\"], \n",
        "                      \"INFS3605\": [\"M10A\", \"T15A\", \"W12A\", \"W12B\"] }"
      ],
      "execution_count": null,
      "outputs": []
    },
    {
      "cell_type": "markdown",
      "metadata": {
        "id": "ssBTJtP2MM7C"
      },
      "source": [
        "What is the first tutorial for COMP1010?"
      ]
    },
    {
      "cell_type": "code",
      "metadata": {
        "id": "usenLTcCMM7C",
        "colab": {
          "base_uri": "https://localhost:8080/",
          "height": 35
        },
        "outputId": "86515349-86b6-4b46-9395-73dbaa64ba63"
      },
      "source": [
        "first_year_courses['COMP1010'][0]"
      ],
      "execution_count": null,
      "outputs": [
        {
          "output_type": "execute_result",
          "data": {
            "application/vnd.google.colaboratory.intrinsic+json": {
              "type": "string"
            },
            "text/plain": [
              "'T15A'"
            ]
          },
          "metadata": {
            "tags": []
          },
          "execution_count": 22
        }
      ]
    },
    {
      "cell_type": "markdown",
      "metadata": {
        "id": "6lv5FCXKMM7E"
      },
      "source": [
        "Construct a list containing all the courses that have exactly 3 tutorials. You should get this as a result:\n",
        "```[\"COMP1010\", \"FINS1613\"]```"
      ]
    },
    {
      "cell_type": "code",
      "metadata": {
        "id": "gKjGLXxeMM7E",
        "colab": {
          "base_uri": "https://localhost:8080/"
        },
        "outputId": "49f5cb88-918b-49b5-8576-c6e207bce50d"
      },
      "source": [
        "three_tutorials = []\n",
        "for course,tute_list in first_year_courses.items():\n",
        "  if len(tute_list) == 3:\n",
        "    three_tutorials.append(course)\n",
        "\n",
        "print(three_tutorials)"
      ],
      "execution_count": null,
      "outputs": [
        {
          "output_type": "stream",
          "text": [
            "['COMP1010', 'FINS1613']\n"
          ],
          "name": "stdout"
        }
      ]
    },
    {
      "cell_type": "markdown",
      "metadata": {
        "id": "pBXuc2xTMM7F"
      },
      "source": [
        "Construct a list containing all the courses with a tutorial on a Tuesday (i.e. the tutorial code starts with a 'T'). You should get this as a result:\n",
        "```\n",
        "[\"COMP1010\", \"FINS1613\", \"ACCT1501\", \"INFS3605\"]\n",
        "```\n",
        "\n",
        "**Hint**: Depending on how you approach this, you may need a nested loop."
      ]
    },
    {
      "cell_type": "code",
      "metadata": {
        "id": "h5DMg6GlMM7F",
        "colab": {
          "base_uri": "https://localhost:8080/"
        },
        "outputId": "50535d26-166f-403c-fba5-32e2232d05ac"
      },
      "source": [
        "tues_tutorials = []\n",
        "# check each course\n",
        "for course,tute_list in first_year_courses.items():\n",
        "  # check each tutorial for that course\n",
        "  for tute in tute_list:\n",
        "    # if it's a tuesday tutorial\n",
        "    if tute[0] == 'T':\n",
        "      # if that course isn't already in our list\n",
        "      if course not in tues_tutorials:\n",
        "        # add it to the list\n",
        "        tues_tutorials.append(course)\n",
        "\n",
        "tues_tutorials"
      ],
      "execution_count": null,
      "outputs": [
        {
          "output_type": "execute_result",
          "data": {
            "text/plain": [
              "['COMP1010', 'FINS1613', 'ACCT1501', 'INFS3605']"
            ]
          },
          "metadata": {
            "tags": []
          },
          "execution_count": 25
        }
      ]
    },
    {
      "cell_type": "markdown",
      "metadata": {
        "id": "cVDWfgkuMM7F"
      },
      "source": [
        "## While loops (1 mark)\n",
        "\n",
        "Write a function, `odd_sum_while(n)` that computes all the positive *odd* numbers less than `n` with a `while` loop.\n",
        "\n",
        "*Note*: You could do this with a `for` loop, but you should do it with a `while` loop for practice. "
      ]
    },
    {
      "cell_type": "code",
      "metadata": {
        "id": "SNKmhCo5MM7F"
      },
      "source": [
        "def odd_sum_while(n):\n",
        "  sum = 0\n",
        "  while n > 0:\n",
        "    # if n is odd, add it to the sum (using modulus operator)\n",
        "    if n % 2 == 1:\n",
        "      sum += n\n",
        "    n -= 1\n",
        "  return sum"
      ],
      "execution_count": null,
      "outputs": []
    },
    {
      "cell_type": "code",
      "metadata": {
        "id": "zVC6P0HgMM7G"
      },
      "source": [
        "def odd_sum_while(n):\n",
        "  sum = 0\n",
        "  upto = 1\n",
        "  while upto < n:\n",
        "    sum += upto\n",
        "    upto += 2 # adding 2 each time to keep upto odd, saves us checking if it's odd before adding it to the sum\n",
        "  return sum"
      ],
      "execution_count": null,
      "outputs": []
    },
    {
      "cell_type": "markdown",
      "metadata": {
        "id": "S6fFhHlhMM7G"
      },
      "source": [
        "Use this cell to test whether you have implemented the function correctly."
      ]
    },
    {
      "cell_type": "code",
      "metadata": {
        "id": "goh75VtPMM7G"
      },
      "source": [
        "assert odd_sum_while(10) == 25"
      ],
      "execution_count": null,
      "outputs": []
    },
    {
      "cell_type": "markdown",
      "metadata": {
        "id": "NfcKQCK447EK"
      },
      "source": [
        "## Complex Data Structures (1 mark)\n",
        "\n",
        "This data structure contains a series of courses. For each course, there are a list of its tutorials and its enrolments. "
      ]
    },
    {
      "cell_type": "code",
      "metadata": {
        "id": "eHBQ-6Pi47EK"
      },
      "source": [
        "unsw_courses = { \n",
        "    \"COMP1010\": { \n",
        "        \"name\": \"Art of Computing\", \n",
        "        \"tutorials\": [ \n",
        "            { \"code\": \"T15A\", \"room\": \"Quad 1041\" },\n",
        "            { \"code\": \"T17A\", \"room\": \"ASB 111\" },\n",
        "            { \"code\": \"T18A\", \"room\": \"Goldstein G03\" }\n",
        "        ],\n",
        "        \"enrollments\": [\n",
        "            { \"zid\": \"z1234567\", \"tutorial\": \"T15A\" },\n",
        "            { \"zid\": \"z7654321\", \"tutorial\": \"T17A\" },\n",
        "            { \"zid\": \"z1357246\", \"tutorial\": \"T15A\" },\n",
        "            { \"zid\": \"z2461357\", \"tutorial\": \"T18A\" }\n",
        "        ]\n",
        "    },\n",
        "    \"FINS1613\": { \n",
        "        \"name\": \"Business Finance\", \n",
        "        \"tutorials\": [ \n",
        "            { \"code\": \"M12A\", \"room\": \"ASB 302\" },\n",
        "            { \"code\": \"H16B\", \"room\": \"J17 G12\" }\n",
        "        ],\n",
        "        \"enrollments\": [\n",
        "            { \"zid\": \"z7654321\", \"tutorial\": \"M12A\" },\n",
        "            { \"zid\": \"z1234567\", \"tutorial\": \"M12A\" },\n",
        "            { \"zid\": \"z1357246\", \"tutorial\": \"H16B\" }\n",
        "        ]\n",
        "    },\n",
        "    \"FINS1612\": { \n",
        "        \"name\": \"Capital Markets & Institution\", \n",
        "        \"tutorials\": [ \n",
        "            { \"code\": \"T11A\", \"room\": \"ASB 111\" },\n",
        "            { \"code\": \"F11A\", \"room\": \"J17 G12\" },\n",
        "            { \"code\": \"M09A\", \"room\": \"Goldstein G03\" }\n",
        "        ],\n",
        "        \"enrollments\": [\n",
        "            { \"zid\": \"z1357246\", \"tutorial\": \"M09A\" },\n",
        "            { \"zid\": \"z7654321\", \"tutorial\": \"T11A\" },\n",
        "            { \"zid\": \"z1234567\", \"tutorial\": \"F11A\" },\n",
        "            { \"zid\": \"z2461357\", \"tutorial\": \"F11A\" }\n",
        "        ]\n",
        "    }\n",
        "}\n"
      ],
      "execution_count": null,
      "outputs": []
    },
    {
      "cell_type": "markdown",
      "metadata": {
        "id": "Unf_t_cf47EL"
      },
      "source": [
        "Write a function `timetable(zid)` that, given a student number returns the timetable of the student in the format shown in the test cell below.\n",
        "\n",
        "**NOTE**: Your function should still work if new courses, tutorials or enrolments were added to the above data structure-- i.e. you shouldn't have any specific course or tutorial codes hardcoded in your solution."
      ]
    },
    {
      "cell_type": "code",
      "metadata": {
        "id": "H95SvWRn47EL"
      },
      "source": [
        "def timetable(zid):\n",
        "  classes = {}\n",
        "  # for each course, go through the enrollments, and find out if this student is enrolled\n",
        "  for course,course_data in unsw_courses.items():\n",
        "    #print(course)\n",
        "    #print(course_data)\n",
        "    #print(course_data[\"enrollments\"])\n",
        "    enrollments = course_data[\"enrollments\"]\n",
        "    for enrollment in enrollments:\n",
        "      if enrollment['zid'] == zid:\n",
        "        # if we get here, the student is in this course\n",
        "\n",
        "        # get their tutorial time\n",
        "        tutorial_code = enrollment[\"tutorial\"]\n",
        "\n",
        "        # go through the tutorials for that course, to find the room of their tutorial code\n",
        "        tutorial_list = course_data[\"tutorials\"]\n",
        "        for tute in tutorial_list:\n",
        "          if tute[\"code\"] == tutorial_code:\n",
        "            room = tute[\"room\"]\n",
        "\n",
        "        # add to classes list\n",
        "        classes[course] = { \"time\": tutorial_code,\n",
        "                              \"room\": room}\n",
        "\n",
        "  #print(classes)\n",
        "  return classes\n",
        "\n",
        "#timetable('z1234567')"
      ],
      "execution_count": null,
      "outputs": []
    },
    {
      "cell_type": "markdown",
      "metadata": {
        "id": "8MVnoHRU47EL"
      },
      "source": [
        "Use this cell to test if your function is correct."
      ]
    },
    {
      "cell_type": "code",
      "metadata": {
        "id": "uCbZCTTE47EL"
      },
      "source": [
        "assert timetable('z1234567') == { \n",
        "    \"COMP1010\": { \"time\": \"T15A\", \"room\": \"Quad 1041\" },\n",
        "    \"FINS1613\": { \"time\": \"M12A\", \"room\": \"ASB 302\" },\n",
        "    \"FINS1612\": { \"time\": \"F11A\", \"room\": \"J17 G12\" }\n",
        "}\n",
        "assert timetable('z2461357') == { \n",
        "    \"COMP1010\": { \"time\": \"T18A\", \"room\": \"Goldstein G03\" },\n",
        "    \"FINS1612\": { \"time\": \"F11A\", \"room\": \"J17 G12\" }\n",
        "}"
      ],
      "execution_count": null,
      "outputs": []
    },
    {
      "cell_type": "markdown",
      "metadata": {
        "id": "w3kSOGMn47EL"
      },
      "source": [
        "## More loops  (1 mark)\n",
        "\n",
        "Given a list of numbers, you can compute a new list containing the *difference* between each element and its subsequent element. For example, given `[1, 2, 5, 3]`, the *difference* list would be `[1, 3, -2]`. Naturally, the new list has one less element than the original list.\n",
        "\n",
        "Write a function `difference(numbers)` that computes the difference list for the argument `numbers`."
      ]
    },
    {
      "cell_type": "code",
      "metadata": {
        "id": "yl7iOnRx47EL"
      },
      "source": [
        "def difference(numbers):\n",
        "  new_list = []\n",
        "  for i in range(len(numbers)-1):\n",
        "    new_list.append(numbers[i+1]-numbers[i])\n",
        "  return new_list\n",
        "\n",
        "#difference([1, 2, 5, 3])"
      ],
      "execution_count": 3,
      "outputs": []
    },
    {
      "cell_type": "markdown",
      "metadata": {
        "id": "N913gN3r47EL"
      },
      "source": [
        "Use this cell to test your function."
      ]
    },
    {
      "cell_type": "code",
      "metadata": {
        "id": "aO_uPnOz47EL"
      },
      "source": [
        "assert difference([1, 2, 5, 3]) == [1, 3, -2]\n",
        "assert difference([3, 2, 567, 2, 45, 3, 7, 5]) == [-1, 565, -565, 43, -42, 4, -2]"
      ],
      "execution_count": 4,
      "outputs": []
    },
    {
      "cell_type": "markdown",
      "metadata": {
        "id": "Yg8pIctU47EL"
      },
      "source": [
        "Write another function, `final_difference(numbers)` that repeatedly applies `difference(numbers)` until only 1 number remains. That number is then returned."
      ]
    },
    {
      "cell_type": "code",
      "metadata": {
        "id": "UYmtuIbc47EL"
      },
      "source": [
        "def final_difference(numbers):\n",
        "  while(len(numbers)>1):\n",
        "    numbers = difference(numbers)\n",
        "  return numbers[0]"
      ],
      "execution_count": 5,
      "outputs": []
    },
    {
      "cell_type": "markdown",
      "metadata": {
        "id": "odNZEYLP47EL"
      },
      "source": [
        "Use this cell to test your function."
      ]
    },
    {
      "cell_type": "code",
      "metadata": {
        "id": "xLpPiYd047EM"
      },
      "source": [
        "assert final_difference([1, 2, 5, 3]) == -7\n",
        "assert final_difference([3, 2, 567, 2, 45, 3, 7, 5]) == -13382"
      ],
      "execution_count": 6,
      "outputs": []
    },
    {
      "cell_type": "markdown",
      "metadata": {
        "id": "owutygOM47EM"
      },
      "source": [
        "## Program Composition (1 mark)\n",
        "\n",
        "### Majority Vote\n",
        "Create a function, `majority(votes)`, that returns the majority vote in a list. A majority vote is an element that occurs $> \\frac{n}{2}$ times in a list (where $n$ is the length of the list). If there is no majority vote, the function should return `None`. "
      ]
    },
    {
      "cell_type": "code",
      "metadata": {
        "id": "2g-gORao47EM"
      },
      "source": [
        "def majority(votes):\n",
        "  '''\n",
        "  {\"A\":2, \"B\":1}\n",
        "  '''\n",
        "  summary = {}\n",
        "  for vote in votes:\n",
        "    # If the vote isn't in our summary add it in\n",
        "    if vote not in summary:\n",
        "      summary[vote] = 0\n",
        "    # Add one to that vote tally\n",
        "    summary[vote] += 1\n",
        "\n",
        "  for vote,num in summary.items():\n",
        "    if num > len(votes)/2:\n",
        "      return vote\n",
        "\n",
        "  return None\n"
      ],
      "execution_count": 8,
      "outputs": []
    },
    {
      "cell_type": "markdown",
      "metadata": {
        "id": "jT6AzGim47EM"
      },
      "source": [
        "Use this cell to test your function."
      ]
    },
    {
      "cell_type": "code",
      "metadata": {
        "id": "Q6J_xSea47EM"
      },
      "source": [
        "assert majority([\"A\", \"A\", \"B\"]) == \"A\"\n",
        "assert majority([\"pizza\", \"pizza\", \"pizza\", \"burger\", \"burrito\", \"pizza\"]) == \"pizza\"\n",
        "assert majority([\"koala\", \"kangaroo\", \"kangaroo\", \"koala\", \"wombat\", \"wombat\"]) == None\n",
        "assert majority([\"dogs\", \"cats\", \"dogs\", \"snakes\"]) == None"
      ],
      "execution_count": 9,
      "outputs": []
    },
    {
      "cell_type": "markdown",
      "metadata": {
        "id": "zgLcnda647EM"
      },
      "source": [
        "### Grouping\n",
        "\n",
        "Create a function, `group(strings)`, that groups strings by their first character. The argument `strings` is a list of strings and the returned grouping should be a list of lists. The function should preserve ordering as much as possible-- i.e. the first strings in all the sublists should be in the order they appear in the original list, as should the strings inside each sublist. See the test cell below for some examples."
      ]
    },
    {
      "cell_type": "code",
      "metadata": {
        "id": "cl8sNSm847EM"
      },
      "source": [
        "def group(strings):\n",
        "  groups = []\n",
        "  for word in strings:\n",
        "\n",
        "    # Try find an existing group for our word\n",
        "    found = False\n",
        "    for group in groups:\n",
        "      # group[0][0] --> the first letter of the first word of that group\n",
        "      if group[0][0] == word[0]:\n",
        "        group.append(word)\n",
        "        found = True\n",
        "\n",
        "    # Have we added it? or do we need a new group?\n",
        "    if found == False:\n",
        "      # create a new group for our word\n",
        "      groups.append([word])\n",
        "      \n",
        "  return groups\n",
        "\n"
      ],
      "execution_count": 12,
      "outputs": []
    },
    {
      "cell_type": "markdown",
      "metadata": {
        "id": "xwALsurn47EM"
      },
      "source": [
        "Use this cell to test if your function is correct"
      ]
    },
    {
      "cell_type": "code",
      "metadata": {
        "id": "s4ojW_gB47EM"
      },
      "source": [
        "assert group([\"hello\", \"goodbye\", \"hi\", \"goodness\"]) == [[\"hello\", \"hi\"], [\"goodbye\", \"goodness\"]]\n",
        "assert group([\"python\", \"java\", \"prolog\", \"purescript\", \"javascript\", \"haskell\"]) == [[\"python\", \"prolog\", \"purescript\"], [\"java\", \"javascript\"], [\"haskell\"]]"
      ],
      "execution_count": 13,
      "outputs": []
    },
    {
      "cell_type": "markdown",
      "metadata": {
        "id": "TU1rsIKU47EM"
      },
      "source": [
        "## Web Server (1 mark)"
      ]
    },
    {
      "cell_type": "markdown",
      "metadata": {
        "id": "Ms1xrJKZ47EM"
      },
      "source": [
        "In a separate file, `text_server.py`, write a Flask web server that analyses text. On the main page have a textbox and a submit button. If the submit button is pressed, on the next page show an analysis of whatever was in the text box. This analysis should include: the number of characters (including spaces and punctuation), the number of characters (excluding punctuation), and the number of words. \n",
        "\n",
        "**Note**:\n",
        "* All responses the server gives should be in HTML. You may wish to use this as an opportunity to familiarise yourself with HTML and PyHTML.\n",
        "* You can use the web servers implemented in lectures as a guide to structuring your code.\n"
      ]
    },
    {
      "cell_type": "markdown",
      "metadata": {
        "id": "iYvhM4i9MM7H"
      },
      "source": [
        "## Challenge\n",
        "\n",
        "**NOTE:** This question is **NOT** worth any marks and is meant to present a significant challenge. It's here for those who wish to extend themselves. Even if you're not able to solve it, you may find giving it a try good practice and you can always come back to it in later weeks. "
      ]
    },
    {
      "cell_type": "markdown",
      "metadata": {
        "id": "pA6CLAX1MM7H"
      },
      "source": [
        "The following cell constructs the map of \"Romania\" as a dictionary of dictioanries."
      ]
    },
    {
      "cell_type": "code",
      "metadata": {
        "id": "O_xhPA1HMM7H"
      },
      "source": [
        "romania = {\n",
        "    'Arad': { 'Zerind': 75, 'Sibiu': 140, 'Timisoara': 118 },\n",
        "    'Zerind': { 'Arad': 75, 'Oradea': 71 },\n",
        "    'Sibiu': { 'Arad': 140, 'Oradea': 151, 'Fagaras': 99, 'Rimnicu Vilcea': 80 },\n",
        "    'Timisoara': { 'Arad': 118, 'Lugoj': 111 },\n",
        "    'Oradea': { 'Zerind': 71, 'Sibiu': 151 },\n",
        "    'Lugoj': { 'Timisoara': 111, 'Mehadia': 70 },\n",
        "    'Fagaras': { 'Sibiu': 99, 'Bucharest': 211 },\n",
        "    'Rimnicu Vilcea': { 'Sibiu': 80, 'Pitesti': 97, 'Craiova': 146 },\n",
        "    'Mehadia': { 'Lugoj': 70, 'Dobreta': 75 },\n",
        "    'Bucharest': { 'Fagaras': 211, 'Pitesti': 101, 'Urziceni': 85, 'Giurglu': 90 },\n",
        "    'Pitesti': { 'Rimnicu Vilcea': 97, 'Bucharest': 101, 'Craiova': 138 },\n",
        "    'Craiova': { 'Rimnicu Vilcea': 146, 'Pitesti': 138, 'Dobreta': 120 },\n",
        "    'Dobreta': { 'Mehadia': 75, 'Craiova': 120 },\n",
        "    'Urziceni': { 'Bucharest': 85, 'Hirsova': 98, 'Vaslui': 142 },\n",
        "    'Giurglu': { 'Bucharest': 90 },\n",
        "    'Hirsova': { 'Urziceni': 98, 'Eforie': 86 },\n",
        "    'Vaslui': { 'Urziceni': 142, 'Lasi': 92 },\n",
        "    'Eforie': { 'Hirsova': 86 },\n",
        "    'Lasi': { 'Vaslui': 92, 'Neamt': 87 },\n",
        "    'Neamt': { 'Lasi': 87 }\n",
        "}"
      ],
      "execution_count": 14,
      "outputs": []
    },
    {
      "cell_type": "markdown",
      "metadata": {
        "id": "KceGYJCwMM7I"
      },
      "source": [
        "Write a function, `nearby(city)`, that returns a list containing all the cities within a 300 mile trip of the the given city, assuming you can only travel along the roads given. "
      ]
    },
    {
      "cell_type": "code",
      "metadata": {
        "id": "4SrHDa2ZMM7J",
        "colab": {
          "base_uri": "https://localhost:8080/"
        },
        "outputId": "6218d09b-a28f-4c92-f318-822aa9e5534c"
      },
      "source": [
        "def nearby(city):\n",
        "\n",
        "  '''\n",
        "  to_explore: all the cities we have reached (each city paired with how far we travelled to get there)\n",
        "  explored: all the cities we have already explored (that means we've added their adjacent cities to our to_explore list) (all cities keep track of how far we travelled to get there)\n",
        "  '''\n",
        "\n",
        "  to_explore = {city:0}\n",
        "  explored = {}\n",
        "\n",
        "  while len(to_explore) > 0:\n",
        "    # Get a city from to_explore\n",
        "    current_city, current_distance = to_explore.popitem()\n",
        "\n",
        "    for next_city,next_city_distance in romania[current_city].items():\n",
        "      total_distance = current_distance + next_city_distance\n",
        "      # - total_distance > 300 ... do nothing\n",
        "      if total_distance <= 300:\n",
        "        # - next_city has already been explored, in a shorter distance... do nothing\n",
        "        if next_city in explored and total_distance < explored[next_city]:\n",
        "          explored[next_city] = total_distance\n",
        "        # - if next_city hasn't been explored... add to to_explore\n",
        "        if next_city in to_explore and total_distance < to_explore[next_city]:\n",
        "          to_explore[next_city] = total_distance\n",
        "        if next_city not in explored and next_city not in to_explore:\n",
        "          to_explore[next_city] = total_distance\n",
        "    explored[current_city] = current_distance\n",
        "  \n",
        "  return explored\n",
        "\n",
        "nearby('Pitesti')\n"
      ],
      "execution_count": 18,
      "outputs": [
        {
          "output_type": "execute_result",
          "data": {
            "text/plain": [
              "{'Bucharest': 101,\n",
              " 'Craiova': 138,\n",
              " 'Dobreta': 258,\n",
              " 'Fagaras': 276,\n",
              " 'Giurglu': 191,\n",
              " 'Hirsova': 284,\n",
              " 'Pitesti': 0,\n",
              " 'Rimnicu Vilcea': 97,\n",
              " 'Sibiu': 177,\n",
              " 'Urziceni': 186}"
            ]
          },
          "metadata": {
            "tags": []
          },
          "execution_count": 18
        }
      ]
    }
  ]
}