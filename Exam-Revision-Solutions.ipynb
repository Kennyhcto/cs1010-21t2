{
  "nbformat": 4,
  "nbformat_minor": 0,
  "metadata": {
    "colab": {
      "name": "Exam Revision.ipynb",
      "provenance": [],
      "authorship_tag": "ABX9TyMXUWrRWtVTfvGOKv3Ig0zT",
      "include_colab_link": true
    },
    "kernelspec": {
      "name": "python3",
      "display_name": "Python 3"
    },
    "language_info": {
      "name": "python"
    }
  },
  "cells": [
    {
      "cell_type": "markdown",
      "metadata": {
        "id": "view-in-github",
        "colab_type": "text"
      },
      "source": [
        "<a href=\"https://colab.research.google.com/github/sim-mautner/cs1010-21t2/blob/main/Exam-Revision-Solutions.ipynb\" target=\"_parent\"><img src=\"https://colab.research.google.com/assets/colab-badge.svg\" alt=\"Open In Colab\"/></a>"
      ]
    },
    {
      "cell_type": "markdown",
      "metadata": {
        "id": "Wf3q8ohJvWdD"
      },
      "source": [
        "# House Hunting (See Week 6)"
      ]
    },
    {
      "cell_type": "markdown",
      "metadata": {
        "id": "ZwnCkEedvaPI"
      },
      "source": [
        "# Spam\n",
        "\n",
        "Write the function `spamify(synonyms, text)` that transforms text by swapping words with given synonyms. The first argument, synonyms, is a list of lists where each sub-list represents words that all have the same meaning. For example:"
      ]
    },
    {
      "cell_type": "code",
      "metadata": {
        "id": "puYDSqs8vUhg"
      },
      "source": [
        "example_synonyms = [\n",
        "    [\"amazing\", \"incredible\", \"unbelievable\", \"fantastic\"], \n",
        "    [\"awful\", \"unpleasant\", \"terrible\"],\n",
        "    [\"calm\", \"quiet\", \"peaceful\", \"tranquil\"]\n",
        "]"
      ],
      "execution_count": 2,
      "outputs": []
    },
    {
      "cell_type": "markdown",
      "metadata": {
        "id": "r0nYQ3Iqvkbg"
      },
      "source": [
        "The transformation should work by replacing each word out with the one that follows it in its list of synonyms. If the word is at the end of its list, then it should be replaced with the word at the start. There are examples in the test cell below.\n",
        "\n",
        "**NOTE:** To get full marks for this exercise, you need to account for all forms of punctuation as given in the testing cell, as well as capitalisation. However, you do not need to consider other forms of punctuation, plurals, possessives, etc."
      ]
    },
    {
      "cell_type": "code",
      "metadata": {
        "id": "tfCDkbEB01xV"
      },
      "source": [
        "import string\n",
        "\n",
        "def spamify(synonyms, text):\n",
        "  result = \"\"\n",
        "  for word in text.split():\n",
        "    #print(word)\n",
        "    #if word[0].isupper():\n",
        "    #  capit = True\n",
        "    capit = word[0].isupper() # True if it is capital, False otherwise\n",
        "    word = word.lower()\n",
        "    # Save punctuation\n",
        "    punc = ''\n",
        "    if word[-1] in string.punctuation:\n",
        "      punc = word[-1]\n",
        "      word = word[:-1]\n",
        "    for synonym_list in synonyms:\n",
        "      if word in synonym_list:\n",
        "        #print(synonym_list)\n",
        "        # Look through synonym_list and change the word\n",
        "        i = synonym_list.index(word)\n",
        "        word = synonym_list[(i+1) % len(synonym_list)]\n",
        "    if capit:\n",
        "      word = word.capitalize()\n",
        "    # Re-add punctuation\n",
        "    word += punc\n",
        "\n",
        "    result += word + \" \"\n",
        "    \n",
        "  return result.strip()\n",
        "\n",
        "#spamify(example_synonyms, \"I thought it was amazing\")"
      ],
      "execution_count": 11,
      "outputs": []
    },
    {
      "cell_type": "code",
      "metadata": {
        "colab": {
          "base_uri": "https://localhost:8080/"
        },
        "id": "6ZENAoQQ2NUc",
        "outputId": "feeeee4a-4bd6-43a4-eaeb-5ea311a2fa3e"
      },
      "source": [
        "# What is strip()?\n",
        "text = \"   Hello, my name is Sim     \"\n",
        "print(\"Text: \"+text)\n",
        "print(\"Text.strip(): \"+text.strip())"
      ],
      "execution_count": 54,
      "outputs": [
        {
          "output_type": "stream",
          "text": [
            "Text:    Hello, my name is Sim     \n",
            "Text.strip(): Hello, my name is Sim\n"
          ],
          "name": "stdout"
        }
      ]
    },
    {
      "cell_type": "code",
      "metadata": {
        "id": "bi7S3PslvrWS"
      },
      "source": [
        "# Some Tests\n",
        "\n",
        "assert spamify(example_synonyms, \"I thought it was amazing\") == \"I thought it was incredible\"\n",
        "assert spamify(example_synonyms, \"The quiet carriage was actually unpleasant\") == \"The peaceful carriage was actually terrible\"\n",
        "assert spamify(example_synonyms, \"Amazing people are everywhere\") == \"Incredible people are everywhere\"\n",
        "assert spamify(example_synonyms, \"The sea was tranquil\") == \"The sea was calm\"\n",
        "assert spamify(example_synonyms, \"The food was awful. There, I said it.\") == \"The food was unpleasant. There, I said it.\"\n",
        "assert spamify(example_synonyms, \"Was it really that awful?\") == \"Was it really that unpleasant?\"\n",
        "assert spamify(example_synonyms, \"That's amazing, incredible, fantastic!\") == \"That's incredible, unbelievable, amazing!\""
      ],
      "execution_count": 12,
      "outputs": []
    },
    {
      "cell_type": "markdown",
      "metadata": {
        "id": "SRPEhAuYvlOQ"
      },
      "source": [
        "# Making Change\n",
        "\n",
        "Assuming you're dealing with Australian coins (\\$2, \\$1, 50c, 20c, 10c, and 5c), write a function `change(price, paid)` that returns a list of coins (in decreasing order of value) that would need to be given as change if `paid` cents were given for something priced at `price` cents. The function should return the fewest coins needed to make the correct change. Some examples are in the testing cell below."
      ]
    },
    {
      "cell_type": "code",
      "metadata": {
        "id": "MOAOZuSAvudv"
      },
      "source": [
        "def change(price, paid):\n",
        "  diff = paid - price\n",
        "  coins = []\n",
        "  while diff >= 200:\n",
        "    coins.append(\"$2\")\n",
        "    diff -= 200\n",
        "  while diff >= 100:\n",
        "    coins.append(\"$1\")\n",
        "    diff -= 100\n",
        "  while diff >= 50:\n",
        "    coins.append(\"50c\")\n",
        "    diff -= 50\n",
        "  while diff >= 20:\n",
        "    coins.append(\"20c\")\n",
        "    diff -= 20\n",
        "  while diff >= 10:\n",
        "    coins.append(\"10c\")\n",
        "    diff -= 10\n",
        "  while diff >= 5:\n",
        "    coins.append(\"5c\")\n",
        "    diff -= 5\n",
        "  return coins\n"
      ],
      "execution_count": 21,
      "outputs": []
    },
    {
      "cell_type": "code",
      "metadata": {
        "id": "y-ocAN4L5AHP"
      },
      "source": [
        "def change(price, paid):\n",
        "  coins = []\n",
        "  currency = {200:\"$2\", 100:\"$1\", 50:\"50c\", 20:\"20c\", 10:\"10c\", 5:\"5c\"}\n",
        "\n",
        "  diff = paid - price\n",
        "  for amount,text in currency.items():\n",
        "    while diff >= amount:\n",
        "      coins.append(text)\n",
        "      diff -= amount\n",
        "  \n",
        "  return coins"
      ],
      "execution_count": 24,
      "outputs": []
    },
    {
      "cell_type": "code",
      "metadata": {
        "id": "4ht6mWoBv17e"
      },
      "source": [
        "# Some Tests\n",
        "\n",
        "assert change(400, 400) == []\n",
        "assert change(250, 300) == [\"50c\"]\n",
        "assert change(160, 200) == [\"20c\", \"20c\"]\n",
        "assert change(415, 1000) == [\"$2\", \"$2\", \"$1\", \"50c\", \"20c\", \"10c\", \"5c\"]"
      ],
      "execution_count": 25,
      "outputs": []
    },
    {
      "cell_type": "markdown",
      "metadata": {
        "id": "4TsegvxKv4eX"
      },
      "source": [
        "# Russian Dolls\n",
        "\n",
        "Consider what would happen if you took a string and repeatedly inserted it into itself. For example, the string \"hello\" could be inserted into \"hello\" to give \"helhellolo\". Inserting it again and you could end up with \"helhhelloellolo\". We refer to such strings as nestings.\n",
        "\n",
        "**Create a nesting**\n",
        "\n",
        "Write the function `nest(word, positions)` that creates a nesting. The argument `word` is the initial word and `positions` is a list of positions to do the insertions. For example, inserting \"hello\" into itself at position 3 gives \"helhellolo\" then inserting \"hello\" into that at position 5 gives \"helhehellollolo\".\n",
        "\n",
        "**NOTE:** You can assume the list of positions is valid; i.e. the position will never be a negative number and will always be less than or equal to the length of the string at that point."
      ]
    },
    {
      "cell_type": "code",
      "metadata": {
        "id": "1sqvCZCowDIH"
      },
      "source": [
        "def nest(word, positions):\n",
        "  original_word = word\n",
        "  for position in positions:\n",
        "    word = word[:position] + original_word + word[position:]\n",
        "  return word\n"
      ],
      "execution_count": 32,
      "outputs": []
    },
    {
      "cell_type": "code",
      "metadata": {
        "id": "CT0vDRfjwBYn"
      },
      "source": [
        "# Some Tests\n",
        "assert nest(\"hello\", [3]) == \"helhellolo\"\n",
        "assert nest(\"hello\", [3,5]) == \"helhehellollolo\"\n",
        "assert nest(\"hello\", [0]) == \"hellohello\"\n",
        "assert nest(\"COMP1010\", [3, 14, 17, 30]) == \"COMCOMP1010P10COMCOMP1010P1010COMP101010\""
      ],
      "execution_count": 33,
      "outputs": []
    },
    {
      "cell_type": "markdown",
      "metadata": {
        "id": "4gDiScpbwGgY"
      },
      "source": [
        "# Dismantle a nesting (harder)\n",
        "Now consider doing this in reverse. Can you start with a nesting like \"hhelloellohello\" and determine a list of positions that could have built it up from \"hello\"?\n",
        "\n",
        "Implement a function that does this called `nest_positions(nesting, word)`. It should take in a possible nesting as well as an initial word, and return a list of positions that would create such a nesting. If there is no way to create the nesting with the given word, the function should return `None`.\n",
        "\n",
        "**NOTE:** For some arguments, there are multiple possible results this function could return. Your function is correct if it returns any one of them."
      ]
    },
    {
      "cell_type": "code",
      "metadata": {
        "id": "K6SJzbOdwJ_t"
      },
      "source": [
        "def nest_positions(nesting, word):\n",
        "  positions = []\n",
        "  while word in nesting:\n",
        "    # Store the position\n",
        "    position = nesting.index(word)\n",
        "    positions.append(position)\n",
        "    # Take it out of the nesting\n",
        "    nesting = nesting[:position] + nesting[position + len(word):]\n",
        "  if nesting == \"\":\n",
        "    # Success!!\n",
        "    positions = positions[:-1]\n",
        "    positions.reverse()\n",
        "    return positions\n",
        "  else:\n",
        "    return None\n"
      ],
      "execution_count": 38,
      "outputs": []
    },
    {
      "cell_type": "code",
      "metadata": {
        "colab": {
          "base_uri": "https://localhost:8080/",
          "height": 53
        },
        "id": "0dWjVSRm7_iD",
        "outputId": "3cb41278-daf8-4ba1-fa1c-803703f79f02"
      },
      "source": [
        "def index(haystack, needle):\n",
        "  # Return the index of where the \"needle\" can be found in the \"haystack\"\n",
        "  start_letter = 0\n",
        "  while start_letter < len(haystack):\n",
        "    # Move along until first letter of needle is found\n",
        "    while haystack[start_letter] != needle[0]:\n",
        "      start_letter += 1\n",
        "    # Check if the whole word is the same\n",
        "    i = 0\n",
        "    while i < len(needle) and start_letter + 1 < len(haystack) and haystack[start_letter + 1] == needle[i]:\n",
        "      i += 1\n",
        "    # Did we find all the letters until the end of the needle?\n",
        "    if i == len(needle):\n",
        "      return start_letter\n",
        "    start_letter += 1\n",
        "  \n",
        "'''\n",
        "\n",
        "haystack: This is my big string of text without much meaning.\n",
        "needle: my\n",
        "start_letter: 8\n",
        "i: 2\n",
        "Yes found at start_letter 8.\n",
        "\n",
        "haystack: This is meaning.\n",
        "needle: meaningful\n",
        "start_letter: 10\n",
        "i: 2\n",
        "No, not found.\n",
        "\n",
        "'''"
      ],
      "execution_count": 40,
      "outputs": [
        {
          "output_type": "execute_result",
          "data": {
            "application/vnd.google.colaboratory.intrinsic+json": {
              "type": "string"
            },
            "text/plain": [
              "'\\n\\nhaystack: This is my big string of text without much meaning.\\nneedle: my\\nstart_letter: 8\\ni: 2\\nYes found at start_letter 8.\\n\\nhaystack: This is meaning.\\nneedle: meaningful\\nstart_letter: 10\\ni: 2\\nNo, not found.\\n\\n'"
            ]
          },
          "metadata": {
            "tags": []
          },
          "execution_count": 40
        }
      ]
    },
    {
      "cell_type": "code",
      "metadata": {
        "id": "E1hMpGoVwKgO"
      },
      "source": [
        "# Some Tests\n",
        "assert nest_positions(\"helhellolo\", \"hello\") == [3]\n",
        "assert nest_positions(\"helhehellollolo\", \"hello\") == [3, 5]\n",
        "assert nest_positions(\"hhellollo\", \"hello\") == None\n",
        "assert nest_positions(\"helhehehelllollolo\", \"hello\") == None\n",
        "assert nest_positions(\"hellohello\", \"hello\") == [0] or nest_positions(\"hellohello\", \"hello\") == [5]"
      ],
      "execution_count": 41,
      "outputs": []
    },
    {
      "cell_type": "markdown",
      "metadata": {
        "id": "qYqkm4I0wP9U"
      },
      "source": [
        "# Uniqueness\n",
        "\n",
        "Write the function `only_unique(dicts)` that, for a given list of dictionaries, returns only the entries in each dictionary that have keys unique to that dictionary-- i.e. they only appear in that dictionary not any of the other dictionaries in the list. See the testing cell below for some examples."
      ]
    },
    {
      "cell_type": "code",
      "metadata": {
        "id": "Y2QlJFl-A-QF"
      },
      "source": [
        "def only_unique(dicts):\n",
        "  keys_to_remove = [] # keys appearing in more than one dictionary, get added to this list, to later be removed\n",
        "  i = 0 # points to first dictionary\n",
        "  while i < len(dicts)-1:\n",
        "    for key in dicts[i]:\n",
        "      j = i + 1 # points to the dictionary after 'i'\n",
        "      while j < len(dicts):\n",
        "        if key in dicts[j]:\n",
        "          # for each key in dicts[i], if it's also in dicts[j], add it to 'keys_to_remove' as it's not unique\n",
        "          if key not in keys_to_remove:\n",
        "            keys_to_remove.append(key)\n",
        "        j += 1\n",
        "    i += 1\n",
        "  \n",
        "  # At this point, we have a list of which keys need to be\n",
        "  # removed from all our dictionaries\n",
        "\n",
        "  # Go through all keys to remove\n",
        "  for key in keys_to_remove:\n",
        "    # Go through all dictionaries\n",
        "    for dictionary in dicts:\n",
        "      # If the key is in the dictionary, remove it\n",
        "      if key in dictionary:\n",
        "        dictionary.pop(key)\n",
        "  \n",
        "  # Return our updated dictionary\n",
        "  return dicts\n"
      ],
      "execution_count": 48,
      "outputs": []
    },
    {
      "cell_type": "markdown",
      "metadata": {
        "id": "g9q82xtyDUwq"
      },
      "source": [
        "\n",
        "\n",
        "```\n",
        "# Note:\n",
        "j += 1 \n",
        "# Is the same as\n",
        "j = j + 1\n",
        "```\n",
        "\n"
      ]
    },
    {
      "cell_type": "code",
      "metadata": {
        "id": "WPYAQ4JUDMG6",
        "outputId": "e7099234-992d-4ff4-daaf-923692f01637",
        "colab": {
          "base_uri": "https://localhost:8080/"
        }
      },
      "source": [
        "j = 10\n",
        "print(j)\n",
        "j += 1\n",
        "print(j)\n",
        "j += 3\n",
        "print(j)\n",
        "j -= 2\n",
        "print(j)"
      ],
      "execution_count": 47,
      "outputs": [
        {
          "output_type": "stream",
          "text": [
            "10\n",
            "11\n",
            "14\n",
            "12\n"
          ],
          "name": "stdout"
        }
      ]
    },
    {
      "cell_type": "code",
      "metadata": {
        "id": "qZDYaVXQwUf8"
      },
      "source": [
        "# Some Tests\n",
        "\n",
        "assert only_unique([{\"a\": 0}, {\"b\": 0}, {\"c\": 0}]) == [{\"a\":0}, {\"b\": 0}, {\"c\": 0}]\n",
        "assert only_unique([{\"a\": 0, \"b\": 0}, {\"a\": 0}]) == [{\"b\": 0}, {}]\n",
        "assert only_unique([{\"a\": 1, \"b\": 2}, {\"a\": 4, \"c\": 3}, {\"c\": 5, \"d\": 5, \"e\": 5}]) == [{\"b\": 2}, {}, {\"d\": 5, \"e\": 5}]"
      ],
      "execution_count": 49,
      "outputs": []
    },
    {
      "cell_type": "markdown",
      "metadata": {
        "id": "Fk3UWiBswYt-"
      },
      "source": [
        "# Pig Latin\n",
        "\n",
        "You can translate an English sentence into Pig Latin by moving all the consonants before each word to the end of the word and adding \"ay\". The test cell below has some examples.\n",
        "\n",
        "Write the function `pig_latin(text)` that translates English text into Pig Latin. The function should respect capitalisation-- i.e. if a word starts with an uppercase letter, the translated word should also start with an uppercase letter. Similarly, the function should work with text containing full stops and commas, but doesn't need to consider any other punctuation. You also don't need to consider cases where 'y' is used in a vowel position.\n",
        "\n",
        "**NOTE:** In an exam, there would be partial marks for this question if you were able to partially meet the requirements above."
      ]
    },
    {
      "cell_type": "code",
      "metadata": {
        "id": "CZaYQ2qSwdoM"
      },
      "source": [
        "import string\n",
        "\n",
        "def pig_latin(text):\n",
        "  result = \"\"\n",
        "\n",
        "  for word in text.split():\n",
        "\n",
        "    # Find the first vowel in the word\n",
        "    i = 0\n",
        "    while i < len(word) and word[i] not in 'aeiouAEIOU': # Assumption: y is not treated as a vowel, ever\n",
        "      i += 1\n",
        "\n",
        "    # Now i is pointing to the first vowel in the word\n",
        "    # If there are no vowels, make i point to the beginning of the word\n",
        "    if i == len(word):\n",
        "      i = 0\n",
        "\n",
        "    # Store capitalization and punctuation\n",
        "    capitalised = word[0].isupper()\n",
        "    word = word.lower()\n",
        "    punctuation = ''\n",
        "    while word[-1] in string.punctuation:\n",
        "      punctuation += word[-1]\n",
        "      word = word[:-1]\n",
        "\n",
        "    # Rearrange the word\n",
        "    word = word[i:] + word[:i] + 'ay' + punctuation\n",
        "\n",
        "    # Reapply capitalisation\n",
        "    if capitalised:\n",
        "      word = word.capitalize()\n",
        "\n",
        "    # Add word and a space to the result\n",
        "    result += word + ' '\n",
        "  \n",
        "  # Return our result (without the extra space at the end)\n",
        "  return result.strip()\n",
        "\n"
      ],
      "execution_count": 70,
      "outputs": []
    },
    {
      "cell_type": "code",
      "metadata": {
        "id": "5YcXYd71Emmi",
        "outputId": "daf406b1-2c6a-4ae8-a956-8024d2cd6dd1",
        "colab": {
          "base_uri": "https://localhost:8080/"
        }
      },
      "source": [
        "# What is split()?\n",
        "print(\"all my words are here\")\n",
        "print(\"all my words are here\".split())"
      ],
      "execution_count": 55,
      "outputs": [
        {
          "output_type": "stream",
          "text": [
            "all my words are here\n",
            "['all', 'my', 'words', 'are', 'here']\n"
          ],
          "name": "stdout"
        }
      ]
    },
    {
      "cell_type": "code",
      "metadata": {
        "id": "9aB1I4oCweLU"
      },
      "source": [
        "# Some Tests\n",
        "\n",
        "assert pig_latin(\"hello\") == \"ellohay\"\n",
        "assert pig_latin(\"how are you\") == \"owhay areay ouyay\"\n",
        "assert pig_latin(\"Big Bad Wolf\") == \"Igbay Adbay Olfway\"\n",
        "assert pig_latin(\"Rob has snakes\") == \"Obray ashay akessnay\"\n",
        "assert pig_latin(\"Hermits United. We meet up every ten years, swap stories about caves.\") == \"Ermitshay Uniteday. Eway eetmay upay everyay entay earsyay, apsway oriesstay aboutay avescay.\"\n",
        "assert pig_latin(\"I didn't know what to say!!!\") == \"Iay idn'tday owknay atwhay otay aysay!!!\"\n",
        "assert pig_latin(\"Sky is at the gym singing a hymn to a rhythm.\") == \"Skyay isay atay ethay gymay ingingsay aay hymnay otay aay rhythmay.\""
      ],
      "execution_count": 71,
      "outputs": []
    }
  ]
}