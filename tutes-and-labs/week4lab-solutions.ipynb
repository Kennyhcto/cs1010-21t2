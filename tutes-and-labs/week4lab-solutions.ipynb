{
  "nbformat": 4,
  "nbformat_minor": 0,
  "metadata": {
    "language_info": {
      "codemirror_mode": {
        "name": "ipython",
        "version": 3
      },
      "file_extension": ".py",
      "mimetype": "text/x-python",
      "name": "python",
      "nbconvert_exporter": "python",
      "pygments_lexer": "ipython3",
      "version": "3.9.0-final"
    },
    "orig_nbformat": 2,
    "kernelspec": {
      "name": "python3",
      "display_name": "Python 3.9.0 64-bit",
      "metadata": {
        "interpreter": {
          "hash": "ac2eaa0ea0ebeafcc7822e65e46aa9d4f966f30b695406963e145ea4a91cd4fc"
        }
      }
    },
    "colab": {
      "name": "week4lab-solutions.ipynb",
      "provenance": [],
      "include_colab_link": true
    }
  },
  "cells": [
    {
      "cell_type": "markdown",
      "metadata": {
        "id": "view-in-github",
        "colab_type": "text"
      },
      "source": [
        "<a href=\"https://colab.research.google.com/github/sim-mautner/cs1010-21t2/blob/main/tutes-and-labs/week4lab-solutions.ipynb\" target=\"_parent\"><img src=\"https://colab.research.google.com/assets/colab-badge.svg\" alt=\"Open In Colab\"/></a>"
      ]
    },
    {
      "cell_type": "markdown",
      "metadata": {
        "id": "u2WhDvLUEben"
      },
      "source": [
        "# Week 4 Lab (3 marks)\n",
        "\n",
        "**IMPORTANT NOTE** If you're using Colaboratory, make sure you save a copy of these exercises to Google drive by clicking 'Copy to Drive' at the top of the page. Otherwise, your answers will not be saved."
      ]
    },
    {
      "cell_type": "markdown",
      "metadata": {
        "id": "GlpJIIkZlOe8"
      },
      "source": [
        "## Set up Python and Visual Studio Code"
      ]
    },
    {
      "cell_type": "markdown",
      "metadata": {
        "id": "PDGGPQIplTos"
      },
      "source": [
        "If you haven't already, follow the instructions [here](https://webcms3.cse.unsw.edu.au/COMP1010/21T2/resources/61169) to set up Python and Visual Studio Code on your computer.\n",
        "\n",
        "This task is worth no marks, but you will need it for this week's lecture and next week's tutorial and lab."
      ]
    },
    {
      "cell_type": "markdown",
      "metadata": {
        "id": "eBfcPYAnhiMV"
      },
      "source": [
        "## Lists (0.5 marks)\n",
        "\n",
        "Like with strings, Python features many operations that can be performed on lists. These include:\n",
        "\n",
        "* Concatenating (joining together) them with `+`\n",
        "* Replicating (repeating) them with `*`\n",
        "* Indexing them with `[...]`\n",
        "\n",
        "Use these operations on the following list to answer the questions below. They can all be solved **without** loops."
      ]
    },
    {
      "cell_type": "code",
      "metadata": {
        "id": "wZLuLAR2hjKI"
      },
      "source": [
        "students = [\"Sally Studies\", \"Penelope Prepares\", \"Francis Forgets\", \"David Doesn't-Read-Spec\", \"Oliver Overconfident\", \"Larry Leaves-It-To-The-Last-Minute\"]"
      ],
      "execution_count": 1,
      "outputs": []
    },
    {
      "cell_type": "markdown",
      "metadata": {
        "id": "UifJl-Dzhnf1"
      },
      "source": [
        "Who is the student at index 2?"
      ]
    },
    {
      "cell_type": "code",
      "metadata": {
        "id": "kXBIqQx-hrG1",
        "colab": {
          "base_uri": "https://localhost:8080/",
          "height": 35
        },
        "outputId": "0e14853a-8015-42f1-bea3-f3af2d6c37e2"
      },
      "source": [
        "students[2]"
      ],
      "execution_count": 3,
      "outputs": [
        {
          "output_type": "execute_result",
          "data": {
            "application/vnd.google.colaboratory.intrinsic+json": {
              "type": "string"
            },
            "text/plain": [
              "'Francis Forgets'"
            ]
          },
          "metadata": {
            "tags": []
          },
          "execution_count": 3
        }
      ]
    },
    {
      "cell_type": "markdown",
      "metadata": {
        "id": "tCndk72YhpLN"
      },
      "source": [
        "Replace \"David Doesn't-Read-Spec\" with a new student \"Emily Eager\"."
      ]
    },
    {
      "cell_type": "code",
      "metadata": {
        "id": "59zdlvTHhvj9",
        "colab": {
          "base_uri": "https://localhost:8080/"
        },
        "outputId": "a6010161-0526-4443-a5a3-4060f22b4dd7"
      },
      "source": [
        "students[3] = \"Emily Eager\"\n",
        "students"
      ],
      "execution_count": 4,
      "outputs": [
        {
          "output_type": "execute_result",
          "data": {
            "text/plain": [
              "['Sally Studies',\n",
              " 'Penelope Prepares',\n",
              " 'Francis Forgets',\n",
              " 'Emily Eager',\n",
              " 'Oliver Overconfident',\n",
              " 'Larry Leaves-It-To-The-Last-Minute']"
            ]
          },
          "metadata": {
            "tags": []
          },
          "execution_count": 4
        }
      ]
    },
    {
      "cell_type": "markdown",
      "metadata": {
        "id": "ZnxPCSZ3hvEW"
      },
      "source": [
        "Create a new list with just the first two students repeated 2 times (i.e. `[\"Sally Studies\", \"Penelope Prepares\", \"Sally Studies\", \"Penelope Prepares\"]`)."
      ]
    },
    {
      "cell_type": "code",
      "metadata": {
        "id": "tB_tPkDBhzjP",
        "colab": {
          "base_uri": "https://localhost:8080/"
        },
        "outputId": "4ef93965-655b-4d25-9bb3-67999d0561b5"
      },
      "source": [
        "new_students = students[0:2] * 2\n",
        "new_students"
      ],
      "execution_count": 7,
      "outputs": [
        {
          "output_type": "execute_result",
          "data": {
            "text/plain": [
              "['Sally Studies', 'Penelope Prepares', 'Sally Studies', 'Penelope Prepares']"
            ]
          },
          "metadata": {
            "tags": []
          },
          "execution_count": 7
        }
      ]
    },
    {
      "cell_type": "markdown",
      "metadata": {
        "id": "HvHv_2PEh6nN"
      },
      "source": [
        "## For Loops (0.5 marks)"
      ]
    },
    {
      "cell_type": "markdown",
      "metadata": {
        "id": "HuGCNdH_h7ds"
      },
      "source": [
        "Write a function `one_word(words)` which takes in a list of strings and uses a `for... in...` loop to join all the words together in a single string (i.e. \"correcthorsebatterystaple\")."
      ]
    },
    {
      "cell_type": "code",
      "metadata": {
        "id": "ybYorYV5znI4"
      },
      "source": [
        "def one_word(words):\n",
        "  result = \"\"\n",
        "  for word in words:\n",
        "    result += word\n",
        "  return result"
      ],
      "execution_count": 8,
      "outputs": []
    },
    {
      "cell_type": "markdown",
      "metadata": {
        "id": "gZ904OT_zw_l"
      },
      "source": [
        "Use the cell below to test your code."
      ]
    },
    {
      "cell_type": "code",
      "metadata": {
        "id": "V6oLbI_Ih-57"
      },
      "source": [
        "words = [\"correct\", \"horse\", \"battery\", \"staple\"]\n",
        "assert(one_word(words)==\"correcthorsebatterystaple\")"
      ],
      "execution_count": 9,
      "outputs": []
    },
    {
      "cell_type": "markdown",
      "metadata": {
        "id": "hUIGlA6Gh_hv"
      },
      "source": [
        "Write a function `as_and_es(words)` which uses a loop to calculate $2a + e$ where $a$ is the number of times the letter \"a\" appears in all the words and $e$ is the number of times the letter \"e\" occurs."
      ]
    },
    {
      "cell_type": "code",
      "metadata": {
        "id": "AbRKqgB6ziWd"
      },
      "source": [
        "def as_and_es(words):\n",
        "  num_as = 0\n",
        "  num_es = 0\n",
        "  for word in words:\n",
        "    num_as += word.count('a')\n",
        "    num_es += word.count('e')\n",
        "  return 2*num_as + num_es"
      ],
      "execution_count": 10,
      "outputs": []
    },
    {
      "cell_type": "code",
      "metadata": {
        "id": "_t_erbPN8EZ3"
      },
      "source": [
        "def as_and_es(words):\n",
        "  count = 0\n",
        "  for word in words:\n",
        "    count += 2*word.count('a')\n",
        "    count += word.count('e')\n",
        "  return count"
      ],
      "execution_count": 12,
      "outputs": []
    },
    {
      "cell_type": "code",
      "metadata": {
        "id": "X3Z70sct8nEG"
      },
      "source": [
        "def as_and_es(words):\n",
        "  count = 0\n",
        "  for word in words:\n",
        "    for letter in word:\n",
        "      if letter == 'a':\n",
        "        count += 2\n",
        "      if letter == 'e':\n",
        "        count += 1\n",
        "  return count"
      ],
      "execution_count": 14,
      "outputs": []
    },
    {
      "cell_type": "markdown",
      "metadata": {
        "id": "7cIQGiQ5zh9-"
      },
      "source": [
        "Use the cell below to test your code."
      ]
    },
    {
      "cell_type": "code",
      "metadata": {
        "id": "B0tf83i-iCq8"
      },
      "source": [
        "words = [\"correct\", \"horse\", \"battery\", \"staple\"]\n",
        "assert(as_and_es(words)==8)"
      ],
      "execution_count": 15,
      "outputs": []
    },
    {
      "cell_type": "markdown",
      "metadata": {
        "id": "oRrzAEktiBP8"
      },
      "source": [
        "Write a function `big_sum(numbers)` which takes in a list of numbers and uses a for loop to compute the sum of all the numbers in the given list excluding any that are 13 or greater."
      ]
    },
    {
      "cell_type": "code",
      "metadata": {
        "id": "BP2c3kCuiIKk"
      },
      "source": [
        "def big_sum(numbers):\n",
        "  sum = 0\n",
        "  for num in numbers:\n",
        "    if num < 13:\n",
        "      sum += num\n",
        "  return sum"
      ],
      "execution_count": 16,
      "outputs": []
    },
    {
      "cell_type": "markdown",
      "metadata": {
        "id": "EFCCTQjHzWW0"
      },
      "source": [
        "Use the cell below to test your code."
      ]
    },
    {
      "cell_type": "code",
      "metadata": {
        "id": "shOYrIA7zPlu"
      },
      "source": [
        "assert(big_sum([4 , 7 , 2, 13, 3, 5, 4, 12, 14]) == 37)"
      ],
      "execution_count": 17,
      "outputs": []
    },
    {
      "cell_type": "markdown",
      "metadata": {
        "id": "ZD2DSx_gi2uh"
      },
      "source": [
        "# Dictionaries (1 mark)"
      ]
    },
    {
      "cell_type": "markdown",
      "metadata": {
        "id": "Bc2UNmJEi6pi"
      },
      "source": [
        "The following dictionary contains the number of enrolments in a variety of first-year courses."
      ]
    },
    {
      "cell_type": "code",
      "metadata": {
        "id": "Hx9Dqd1pi-EW"
      },
      "source": [
        "first_year_courses = { \"COMP1010\": 45, \"COMP1511\": 560, \"COMP1911\": 100, \"MATH1131\": 1034, \"MATH1231\": 895, \"FINS1612\": 423, \"FINS1613\": 587, \"ACCT1501\": 327 }"
      ],
      "execution_count": 18,
      "outputs": []
    },
    {
      "cell_type": "markdown",
      "metadata": {
        "id": "3HlAT3m1i-yp"
      },
      "source": [
        "How many students are enrolled in COMP1010?"
      ]
    },
    {
      "cell_type": "code",
      "metadata": {
        "id": "QYOv5SbIjCrY",
        "colab": {
          "base_uri": "https://localhost:8080/"
        },
        "outputId": "f1a7193e-bcdd-412f-ddbf-011a267d5655"
      },
      "source": [
        "first_year_courses['COMP1010']"
      ],
      "execution_count": 19,
      "outputs": [
        {
          "output_type": "execute_result",
          "data": {
            "text/plain": [
              "45"
            ]
          },
          "metadata": {
            "tags": []
          },
          "execution_count": 19
        }
      ]
    },
    {
      "cell_type": "markdown",
      "metadata": {
        "id": "5hyBp-v8jC4q"
      },
      "source": [
        "Construct a list containing all the courses with more than 500 students. You should get this as a result:\n",
        "```\n",
        "[\"COMP1511\", \"MATH1131\", \"MATH1231\", \"FINS1613\"]\n",
        "```"
      ]
    },
    {
      "cell_type": "code",
      "metadata": {
        "id": "h6byxta6jGO6",
        "colab": {
          "base_uri": "https://localhost:8080/"
        },
        "outputId": "5164e6b2-2e17-490f-ceba-5712083d1487"
      },
      "source": [
        "big_courses = []\n",
        "for course in first_year_courses:\n",
        "  if first_year_courses[course] > 500:\n",
        "    big_courses.append(course)\n",
        "    \n",
        "big_courses"
      ],
      "execution_count": 20,
      "outputs": [
        {
          "output_type": "execute_result",
          "data": {
            "text/plain": [
              "['COMP1511', 'MATH1131', 'MATH1231', 'FINS1613']"
            ]
          },
          "metadata": {
            "tags": []
          },
          "execution_count": 20
        }
      ]
    },
    {
      "cell_type": "code",
      "metadata": {
        "colab": {
          "base_uri": "https://localhost:8080/"
        },
        "id": "cIpzQf0V9Ypk",
        "outputId": "7d29fb31-068a-4be8-9ae0-b1d6e4ff8285"
      },
      "source": [
        "big_courses = []\n",
        "for course,num_students in first_year_courses.items():\n",
        "  if num_students > 500:\n",
        "    big_courses.append(course)\n",
        "\n",
        "big_courses"
      ],
      "execution_count": 22,
      "outputs": [
        {
          "output_type": "execute_result",
          "data": {
            "text/plain": [
              "['COMP1511', 'MATH1131', 'MATH1231', 'FINS1613']"
            ]
          },
          "metadata": {
            "tags": []
          },
          "execution_count": 22
        }
      ]
    },
    {
      "cell_type": "markdown",
      "metadata": {
        "id": "Pmp_7w_c95OR"
      },
      "source": [
        "What is .items() referring to?"
      ]
    },
    {
      "cell_type": "code",
      "metadata": {
        "colab": {
          "base_uri": "https://localhost:8080/"
        },
        "id": "kw3UPlx39sT7",
        "outputId": "c20d8041-06df-49b5-aedb-1d8608e411e2"
      },
      "source": [
        "# What is .items() referring to?\n",
        "for item in first_year_courses.items():\n",
        "  print(item)"
      ],
      "execution_count": 23,
      "outputs": [
        {
          "output_type": "stream",
          "text": [
            "('COMP1010', 45)\n",
            "('COMP1511', 560)\n",
            "('COMP1911', 100)\n",
            "('MATH1131', 1034)\n",
            "('MATH1231', 895)\n",
            "('FINS1612', 423)\n",
            "('FINS1613', 587)\n",
            "('ACCT1501', 327)\n"
          ],
          "name": "stdout"
        }
      ]
    },
    {
      "cell_type": "code",
      "metadata": {
        "colab": {
          "base_uri": "https://localhost:8080/"
        },
        "id": "bQB5-K6r96Y8",
        "outputId": "18a94160-78a6-4317-fa9b-5745b731e3e1"
      },
      "source": [
        "for item in first_year_courses.items():\n",
        "  #print(item[0])\n",
        "  #print(item[1])\n",
        "  print(item[0] + \" has \" + str(item[1]) + \" students\")"
      ],
      "execution_count": 27,
      "outputs": [
        {
          "output_type": "stream",
          "text": [
            "COMP1010 has 45 students\n",
            "COMP1511 has 560 students\n",
            "COMP1911 has 100 students\n",
            "MATH1131 has 1034 students\n",
            "MATH1231 has 895 students\n",
            "FINS1612 has 423 students\n",
            "FINS1613 has 587 students\n",
            "ACCT1501 has 327 students\n"
          ],
          "name": "stdout"
        }
      ]
    },
    {
      "cell_type": "code",
      "metadata": {
        "colab": {
          "base_uri": "https://localhost:8080/"
        },
        "id": "2anIljVn-Pts",
        "outputId": "e89c73e4-67a4-402d-e9ca-9562d8fed491"
      },
      "source": [
        "for item in first_year_courses.items():\n",
        "  code,num_students = item\n",
        "  print(code + \" has \" + str(num_students) + \" students\")"
      ],
      "execution_count": 29,
      "outputs": [
        {
          "output_type": "stream",
          "text": [
            "COMP1010 has 45 students\n",
            "COMP1511 has 560 students\n",
            "COMP1911 has 100 students\n",
            "MATH1131 has 1034 students\n",
            "MATH1231 has 895 students\n",
            "FINS1612 has 423 students\n",
            "FINS1613 has 587 students\n",
            "ACCT1501 has 327 students\n"
          ],
          "name": "stdout"
        }
      ]
    },
    {
      "cell_type": "markdown",
      "metadata": {
        "id": "KxGBwkiPjK8p"
      },
      "source": [
        "Find the total number of students enrolled in each subject area (the first 4 letters of the course code). Store these numbers in a dictionary. You should get this as a result:\n",
        "\n",
        "```\n",
        "{\"COMP\": 705, \"MATH\": 1929, \"FINS\": 1010, \"ACCT\": 327}\n",
        "```\n",
        "\n",
        "**NOTE**: Recall that dictionaries are unordered in this version of Python, so your result may not *appear* in exactly the same order as above, but as long as the numbers match, your result is correct."
      ]
    },
    {
      "cell_type": "code",
      "metadata": {
        "id": "dvTO48zpjSzY",
        "colab": {
          "base_uri": "https://localhost:8080/"
        },
        "outputId": "96cf17d7-4e5c-4a93-fe6f-cd9c8ddfc30a"
      },
      "source": [
        "subject_area_enrollments = {}\n",
        "for code,num_students in first_year_courses.items():\n",
        "  subject_area_code = code[0:4]\n",
        "  # if it's not already in the dictionary\n",
        "  if subject_area_code not in subject_area_enrollments.keys():\n",
        "    subject_area_enrollments[subject_area_code] = num_students\n",
        "  else: # if it was already there\n",
        "    subject_area_enrollments[subject_area_code] += num_students\n",
        "  \n",
        "print(subject_area_enrollments)"
      ],
      "execution_count": 32,
      "outputs": [
        {
          "output_type": "stream",
          "text": [
            "{'COMP': 705, 'MATH': 1929, 'FINS': 1010, 'ACCT': 327}\n"
          ],
          "name": "stdout"
        }
      ]
    },
    {
      "cell_type": "code",
      "metadata": {
        "colab": {
          "base_uri": "https://localhost:8080/"
        },
        "id": "T_NAdu6r_fZs",
        "outputId": "14bbf06b-abe2-44d1-97ac-785100884e4e"
      },
      "source": [
        "subject_area_enrollments = {}\n",
        "for code,num_students in first_year_courses.items():\n",
        "  subject_area_code = code[0:4]\n",
        "  # if it's not already in the dictionary, put it in with 0 students\n",
        "  if subject_area_code not in subject_area_enrollments.keys():\n",
        "    subject_area_enrollments[subject_area_code] = 0\n",
        "  # add on the number of students we're up to\n",
        "  subject_area_enrollments[subject_area_code] += num_students\n",
        "  \n",
        "print(subject_area_enrollments)"
      ],
      "execution_count": 33,
      "outputs": [
        {
          "output_type": "stream",
          "text": [
            "{'COMP': 705, 'MATH': 1929, 'FINS': 1010, 'ACCT': 327}\n"
          ],
          "name": "stdout"
        }
      ]
    },
    {
      "cell_type": "markdown",
      "metadata": {
        "id": "mVG24vU9jXVr"
      },
      "source": [
        "## Bringing it all together (1 mark)\n",
        "\n",
        "Write a function, `common(list1, list2)`, that returns a dictionary. Each key in the dictionary corresponds to an element in *both* of the lists. The value for each key is the number of times that element appears across both lists. See the testing cell below for an example.\n",
        "\n",
        "**HINT**: There are multiple ways to solve this, but you may find the simplest involves building at least two intermediate dictionaries and multiple loops."
      ]
    },
    {
      "cell_type": "code",
      "metadata": {
        "id": "iI6Qv4gIjaSh"
      },
      "source": [
        "def common(list1, list2):\n",
        "  letters = {}\n",
        "  for letter in list1:\n",
        "    if letter in list2 and letter not in letters:\n",
        "      # put in our dictionary {letter:x} where x is the number of times it occurs in list1 plus the number of times it occurs in list2\n",
        "      letters[letter] = list1.count(letter) + list2.count(letter)\n",
        "  #print(letters)\n",
        "  return letters"
      ],
      "execution_count": 40,
      "outputs": []
    },
    {
      "cell_type": "markdown",
      "metadata": {
        "id": "zCGQDk8Dja4I"
      },
      "source": [
        "Use this cell to test whether you have implemented the function correctly."
      ]
    },
    {
      "cell_type": "code",
      "metadata": {
        "id": "Lx7cQTQJjbgC",
        "colab": {
          "base_uri": "https://localhost:8080/"
        },
        "outputId": "740dbf19-9bcf-43f1-8470-a00ebb112a93"
      },
      "source": [
        "assert common([\"a\", \"b\", \"a\", \"d\", \"f\", \"a\"], [\"a\", \"b\", \"d\", \"d\", \"e\"]) == { \"a\": 4, \"b\": 2, \"d\": 3 }"
      ],
      "execution_count": 39,
      "outputs": [
        {
          "output_type": "stream",
          "text": [
            "{'a': 4, 'b': 2, 'd': 3}\n"
          ],
          "name": "stdout"
        }
      ]
    },
    {
      "cell_type": "markdown",
      "metadata": {
        "id": "FyvzBGG9jg7v"
      },
      "source": [
        "## Challenge\n",
        "\n",
        "**NOTE:** This question is **NOT** worth any marks and is meant to present a significant challenge. It's here for those who wish to extend themselves. Even if you're not able to solve it, you may find giving it a try good practice and you can always come back to it in later weeks. "
      ]
    },
    {
      "cell_type": "markdown",
      "metadata": {
        "id": "oIPBFs3Mjj1Z"
      },
      "source": [
        "Solve the problem described below:\n",
        "\n",
        "> Oh no, there era grimlens (or parheps just eno nysta grimlen) in my cumpetor, semithong wierd is heppinang to my vewols! Thye seem to be ratetod thruogh aech word, aech eno rapleces the vewol to its left and the first eno mevos oruand to the last pisitoon. That's a tirryble creul thing to do."
      ]
    },
    {
      "cell_type": "code",
      "metadata": {
        "id": "ZADAclYfjmDf",
        "colab": {
          "base_uri": "https://localhost:8080/",
          "height": 53
        },
        "outputId": "b607daa3-6275-47bc-a3d7-3a6b5ba12c49"
      },
      "source": [
        "def fix_vowels(text):\n",
        "  result = \"\"\n",
        "\n",
        "  for word in text.split():\n",
        "    # Check capitalisation for example: Otter --> Ettor --> Otter\n",
        "    capitalised = word[0].isupper()\n",
        "\n",
        "    # Create a string of the vowels from the word\n",
        "    vowels = \"\"\n",
        "    for letter in word:\n",
        "      if letter in 'aeiouyAEIOUY':\n",
        "        vowels += letter\n",
        "    # Rotate the vowels (put the last one at the front, and then have the rest)\n",
        "    vowels = vowels[-1] + vowels[0:-1]\n",
        "\n",
        "    # Construct fixed word\n",
        "    fixed_word = \"\"\n",
        "    for letter in word:\n",
        "      if letter in 'aeiouyAEIOUY':\n",
        "        # Get the next vowel (and then remove it from our vowels string)\n",
        "        fixed_word += vowels[0]\n",
        "        vowels = vowels[1:]\n",
        "      else:\n",
        "        fixed_word += letter\n",
        "    \n",
        "    # Capitalise if necessary\n",
        "    if capitalised:\n",
        "      fixed_word = fixed_word.capitalize()\n",
        "    \n",
        "    # Add our fixed word to our result\n",
        "    result += fixed_word + ' '\n",
        "\n",
        "  return result.strip()\n",
        "\n",
        "\n",
        "fix_vowels(\"Oh no, there era grimlens (or parheps just eno nysta grimlen) in my cumpetor, semithong wierd is heppinang to my vewols! Thye seem to be ratetod thruogh aech word, aech eno rapleces the vewol to its left and the first eno mevos oruand to the last pisitoon. That's a tirryble creul thing to do.\")"
      ],
      "execution_count": 2,
      "outputs": [
        {
          "output_type": "execute_result",
          "data": {
            "application/vnd.google.colaboratory.intrinsic+json": {
              "type": "string"
            },
            "text/plain": [
              "\"Oh no, there are gremlins (or perhaps just one nasty gremlin) in my computer, something weird is happening to my vowels! They seem to be rotated through each word, each one replaces the vowel to its left and the first one moves around to the last position. That's a terribly cruel thing to do.\""
            ]
          },
          "metadata": {
            "tags": []
          },
          "execution_count": 2
        }
      ]
    }
  ]
}